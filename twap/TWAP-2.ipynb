{
 "cells": [
  {
   "cell_type": "markdown",
   "id": "7ef1ebea-d8b4-4999-bf8c-12a3a34ee8fe",
   "metadata": {},
   "source": [
    "# TWAP Analysis\n",
    "\n",
    "## Purpose\n",
    "Explore Reflexer RAI/USD Oracle TWAP\n",
    "\n",
    "## Note:\n",
    "This is incomplete and soon to be deprecated"
   ]
  },
  {
   "cell_type": "code",
   "execution_count": null,
   "id": "975d1962-20df-4fc3-acfa-1f1b5ae1eb8e",
   "metadata": {},
   "outputs": [],
   "source": [
    "import time\n",
    "import math\n",
    "import pandas as pd\n",
    "import numpy as np\n",
    "import matplotlib.pyplot as plt\n",
    "from sklearn.metrics import mean_squared_error\n",
    "import scipy.stats as ss"
   ]
  },
  {
   "cell_type": "code",
   "execution_count": null,
   "id": "5020dbb6-2c08-405b-bf0f-1869b8136606",
   "metadata": {},
   "outputs": [],
   "source": [
    "plt.rcParams['figure.figsize'] = [8, 5]\n",
    "plt.rcParams['figure.dpi'] = 200 "
   ]
  },
  {
   "cell_type": "code",
   "execution_count": null,
   "id": "064527f6-56a9-493b-80d9-b12b3e48ddc0",
   "metadata": {},
   "outputs": [],
   "source": [
    "# Number of most recent minutes to display for all plots\n",
    "N_PLOTS = 10000"
   ]
  },
  {
   "cell_type": "markdown",
   "id": "15412318-56c7-467f-8df9-d01b6d6c7744",
   "metadata": {},
   "source": [
    "## Load Data"
   ]
  },
  {
   "cell_type": "markdown",
   "id": "23fe3a27-23bd-4c7b-82ba-7ad5b0aeb9c6",
   "metadata": {
    "tags": []
   },
   "source": [
    "#### Chainlink RAI/USD feed data"
   ]
  },
  {
   "cell_type": "code",
   "execution_count": null,
   "id": "47e393cb-bc26-4656-8540-754dfa0c745b",
   "metadata": {},
   "outputs": [],
   "source": [
    "df_cl = pd.read_csv('cl_rai_usd.csv')\n",
    "df_cl = df_cl.rename(columns={\"RAI / USD\": \"rai_usd_link\", \"Answer\": \"time\"})\n",
    "df_cl['time'] = pd.to_datetime(df_cl['time'], infer_datetime_format=True, utc=True)\n",
    "df_cl['time_1m'] = df_cl['time'].dt.round('1min') \n",
    "df_cl = df_cl.drop_duplicates(['time_1m']) \n",
    "df_cl = df_cl.set_index('time_1m')\n",
    "df_cl = df_cl.asfreq('1min', method='ffill')"
   ]
  },
  {
   "cell_type": "code",
   "execution_count": null,
   "id": "41f62b40-32e4-41ae-ae2f-d89105177a53",
   "metadata": {},
   "outputs": [],
   "source": [
    "df_cl.tail(3)"
   ]
  },
  {
   "cell_type": "markdown",
   "id": "857cc2e9-81e6-4cdd-b8c9-d9ad6607b6f1",
   "metadata": {
    "tags": []
   },
   "source": [
    "#### Chainlink ETH/USD data"
   ]
  },
  {
   "cell_type": "code",
   "execution_count": null,
   "id": "3d245375-8557-453b-b922-2b058712343c",
   "metadata": {},
   "outputs": [],
   "source": [
    "df_link = pd.read_csv('link_eth.csv.gz')\n",
    "df_link = df_link.rename(columns={\"price\": \"eth_usd_link\", \"ts\": \"time\"}).drop([\"started_at\"], axis=1)\n",
    "df_link['eth_usd_link'] /= 1E8\n",
    "df_link['time'] = pd.to_datetime(df_link['time'], unit='s', utc=True)\n",
    "df_link['time_1m'] = df_link['time'].dt.round('1min') \n",
    "df_link = df_link.drop_duplicates(['time_1m']) \n",
    "df_link = df_link.set_index('time_1m')\n",
    "df_link = df_link.asfreq('1min', method='ffill')"
   ]
  },
  {
   "cell_type": "markdown",
   "id": "e9996313-01f3-499d-aed1-09d0d8b8ffd8",
   "metadata": {
    "tags": []
   },
   "source": [
    "#### Chainlink Relayer ETH/USD data"
   ]
  },
  {
   "cell_type": "code",
   "execution_count": null,
   "id": "e430e7f2-7d05-439d-8bdd-9a0961147777",
   "metadata": {},
   "outputs": [],
   "source": [
    "df_relay = pd.read_csv('prod_relayer.csv')\n",
    "df_relay = df_relay.rename(columns={\"ts\": \"time\"})\n",
    "df_relay['eth_usd'] = (df_relay['eth_usd'].astype(float) / 1E18).astype(int)\n",
    "df_relay['time'] = pd.to_datetime(df_relay['time'], unit='s', utc=True)\n",
    "df_relay['time_1m'] = df_relay['time'].dt.round('1min') \n",
    "df_relay = df_relay.drop_duplicates(['time_1m']) \n",
    "df_relay = df_relay.set_index('time_1m')\n",
    "df_relay = df_relay.asfreq('1min', method='ffill')"
   ]
  },
  {
   "cell_type": "code",
   "execution_count": null,
   "id": "9d54b126-30e9-4afe-9874-3280751feec9",
   "metadata": {},
   "outputs": [],
   "source": [
    "#df_link[(df_link['block'] > 13450000) & (df_link['block'] < 13450200)].head(30)"
   ]
  },
  {
   "cell_type": "markdown",
   "id": "eef6233f-3b21-4654-a317-0040bf6f2e7d",
   "metadata": {
    "tags": []
   },
   "source": [
    "#### Prod RAI/USD TWAP data"
   ]
  },
  {
   "cell_type": "code",
   "execution_count": null,
   "id": "2aa867a9-15b2-4fba-8d93-f8ccadfe9322",
   "metadata": {},
   "outputs": [],
   "source": [
    "# Prod RAI/USD TWAP\n",
    "# RAI/USD values derived from RAI/ETH TWAP and TWAP of Chainlink spot ETH/USD. \n",
    "# Time: modified time\n",
    "# Source: the graph systemState.\n",
    "df_twap = pd.read_csv('twap.csv')\n",
    "df_twap = df_twap.rename(columns={\"value\": \"twap_usd\"})\n",
    "\n",
    "# Eliminate repeat duplicates. \n",
    "# This keeps first update so we can join with the CL ETH/USD price at the time of update\n",
    "df_twap['prev_twap_usd'] = df_twap['twap_usd'].shift()\n",
    "df_twap = df_twap[df_twap['prev_twap_usd'] != df_twap['twap_usd']].drop('prev_twap_usd', axis=1)\n",
    "df_twap['time'] = pd.to_datetime(df_twap['time'], infer_datetime_format=True, utc=True)\n",
    "df_twap['time_1m'] = df_twap['time'].dt.round('1min') \n",
    "df_twap = df_twap.drop_duplicates(['time_1m']) \n",
    "df_twap = df_twap.set_index('time_1m')\n",
    "\n",
    "# Don't fill twap. Retain original update times to match with chainlink eth/usd\n",
    "#df_twap = df_twap.asfreq('1min', method='ffill')"
   ]
  },
  {
   "cell_type": "code",
   "execution_count": null,
   "id": "bef5d10f-9bcf-4e39-abbf-d39c5976c236",
   "metadata": {},
   "outputs": [],
   "source": [
    "#df_twap_trim = df_twap[(df_twap.index > pd.to_datetime('2021-10-18').tz_localize('utc')) & (df_twap.index < pd.to_datetime('2021-10-21').tz_localize('utc'))]"
   ]
  },
  {
   "cell_type": "code",
   "execution_count": null,
   "id": "d2ca3483-1c17-4a8a-ac5a-ddfd434ab121",
   "metadata": {},
   "outputs": [],
   "source": [
    "#df_twap_trim.head(10)"
   ]
  },
  {
   "cell_type": "code",
   "execution_count": null,
   "id": "9be22c5a-3881-414c-a43e-76a2acc0ca2e",
   "metadata": {},
   "outputs": [],
   "source": [
    "#df_link_trim = df_link[(df_link.index > pd.to_datetime('2021-10-18').tz_localize('utc')) & (df_link.index < pd.to_datetime('2021-10-21').tz_localize('utc'))]\n",
    "#df_link_trim.head(10)"
   ]
  },
  {
   "cell_type": "markdown",
   "id": "1dc92e7c-28bb-4c04-b383-e92cb8a2f44e",
   "metadata": {
    "tags": []
   },
   "source": [
    "#### RAI/ETH Uniswap v2 data"
   ]
  },
  {
   "cell_type": "code",
   "execution_count": null,
   "id": "a28ab76c-b3b3-4456-94bf-8aeb9f848c8b",
   "metadata": {},
   "outputs": [],
   "source": [
    "# Spot RAI/ETH. \n",
    "# Time: modified time\n",
    "# Source: The graph uniswapPair\n",
    "\n",
    "\n",
    "\"\"\"\n",
    "df_rai = pd.read_csv('rai_eth.csv')\n",
    "df_rai = df_rai.rename(columns={\"value\": \"rai_eth\"})\n",
    "df_rai['time'] = pd.to_datetime(df_rai['time'], infer_datetime_format=True, utc=True)\n",
    "df_rai['time_1m'] = df_rai['time'].dt.round('1min') \n",
    "df_rai = df_rai.drop_duplicates(['time_1m']) \n",
    "df_rai = df_rai.set_index('time_1m')\n",
    "df_rai = df_rai.asfreq('1min', method='ffill')\n",
    "\n",
    "\"\"\"\n",
    "\n",
    "# Spot RAI/ETH\n",
    "# time: blocktime\n",
    "# Source: onchain\n",
    "df_rai = pd.read_csv('rai_eth_new.csv')\n",
    "df_rai['time'] = pd.to_datetime(df_rai['time'], unit='s', utc=True)\n",
    "df_rai['time_1m'] = df_rai['time'].dt.round('1min') \n",
    "df_rai = df_rai.drop_duplicates(['time_1m']) \n",
    "df_rai = df_rai.set_index('time_1m')\n",
    "df_rai = df_rai.asfreq('1min', method='ffill')"
   ]
  },
  {
   "cell_type": "code",
   "execution_count": null,
   "id": "4a7303c0-beea-41d8-8597-056d350f7935",
   "metadata": {},
   "outputs": [],
   "source": [
    "# Create RAI/ETH cumulativePrice\n",
    "df_rai_cum = pd.read_csv('rai_eth_new.csv')\n",
    "df_rai_cum['time'] = pd.to_datetime(df_rai['time'], unit='s', utc=True)\n",
    "df_rai_cum['time_diff'] = df_rai_cum['time'].diff()\n",
    "df_rai_cum['rai_eth_prod'] = df_rai_cum['rai_eth'] * df_rai_cum['time_diff']\n"
   ]
  },
  {
   "cell_type": "code",
   "execution_count": null,
   "id": "d82d945c-1fa1-4163-bcdb-277e9678c44d",
   "metadata": {},
   "outputs": [],
   "source": [
    "df_rai.tail(3)"
   ]
  },
  {
   "cell_type": "markdown",
   "id": "c543f721-aafa-4e6b-9296-5c7e99d9a394",
   "metadata": {
    "tags": []
   },
   "source": [
    "#### ETH/USD Coingecko data"
   ]
  },
  {
   "cell_type": "code",
   "execution_count": null,
   "id": "02fde399-d2bb-416f-8386-19924c1311d7",
   "metadata": {},
   "outputs": [],
   "source": [
    "# Spot ETH/USD from Coingecko. \n",
    "# Time: API query time\n",
    "df_eth = pd.read_csv('eth_usd.csv')\n",
    "df_eth = df_eth.rename(columns={\"value\": \"eth_usd_spot\"})\n",
    "df_eth['time'] = pd.to_datetime(df_eth['time'], infer_datetime_format=True, utc=True)\n",
    "df_eth['time_1m'] = df_eth['time'].dt.round('1min') \n",
    "df_eth = df_eth.drop_duplicates(['time_1m']) \n",
    "df_eth = df_eth.set_index('time_1m')\n",
    "df_eth = df_eth.asfreq('1min', method='ffill')"
   ]
  },
  {
   "cell_type": "code",
   "execution_count": null,
   "id": "c2a4f6df-8b48-4582-88e7-8a63acf75fbf",
   "metadata": {},
   "outputs": [],
   "source": [
    "df_eth.tail(2)"
   ]
  },
  {
   "cell_type": "markdown",
   "id": "021faf92-200c-4188-b04d-df7a256be08e",
   "metadata": {
    "tags": []
   },
   "source": [
    "#### New TWAP data"
   ]
  },
  {
   "cell_type": "code",
   "execution_count": null,
   "id": "ecab2cb7-9e28-4824-a925-80bb0e04ce95",
   "metadata": {},
   "outputs": [],
   "source": [
    "# New TWAP values\n",
    "df_new_twap = pd.read_csv('new_twap.csv')\n",
    "df_new_twap = df_new_twap.rename(columns={\"price\": \"rai_usd\", \"ts\": \"time\"})\n",
    "df_new_twap['rai_usd'] /= 1E18\n",
    "df_new_twap['time'] = pd.to_datetime(df_new_twap['time'], unit='s', utc=True)\n",
    "df_new_twap['time_1m'] = df_new_twap['time'].dt.round('1min') \n",
    "df_new_twap = df_new_twap.drop_duplicates(['time_1m']) \n",
    "df_new_twap = df_new_twap.set_index('time_1m')\n",
    "df_new_twap = df_new_twap.asfreq('1min', method='ffill')"
   ]
  },
  {
   "cell_type": "code",
   "execution_count": null,
   "id": "c1e7575e-da67-4dc6-900e-13d36c60c436",
   "metadata": {},
   "outputs": [],
   "source": [
    "df_new_twap.tail(3)"
   ]
  },
  {
   "cell_type": "markdown",
   "id": "3c3bdcd6-f02a-461f-bd62-87fb0a958727",
   "metadata": {},
   "source": [
    "#### Join all dataframes"
   ]
  },
  {
   "cell_type": "code",
   "execution_count": null,
   "id": "17b57f50-efc6-4913-b7ef-e3f30c07840b",
   "metadata": {},
   "outputs": [],
   "source": [
    "df_rai_eth = pd.merge(df_rai['rai_eth'], df_eth['eth_usd_spot'], left_index=True, right_index=True)\n",
    "df_rai_eth_link = pd.merge(df_rai_eth[['rai_eth', 'eth_usd_spot']], df_link['eth_usd_link'], left_index=True, right_index=True)\n",
    "df = pd.merge(df_rai_eth_link[['rai_eth', 'eth_usd_spot', 'eth_usd_link']], df_twap['twap_usd'], left_index=True, right_index=True)\n",
    "#df = pd.merge(df[['rai_eth', 'eth_usd_spot', 'eth_usd_link', 'twap_usd']], df_cl['rai_usd_link'], left_index=True, right_index=True)"
   ]
  },
  {
   "cell_type": "markdown",
   "id": "26e2fa2a-38e8-4300-b344-396945e4b547",
   "metadata": {},
   "source": [
    "#### Calculate spot RAI/USD from spot RAI/ETH and spot ETH/USD"
   ]
  },
  {
   "cell_type": "code",
   "execution_count": null,
   "id": "ec4884f6-b559-46e9-9ced-1139d9ba7158",
   "metadata": {},
   "outputs": [],
   "source": [
    "df['rai_usd'] = df['rai_eth'] * df['eth_usd_link']"
   ]
  },
  {
   "cell_type": "code",
   "execution_count": null,
   "id": "cee696fb-fde4-47f4-adad-b219d1a62285",
   "metadata": {},
   "outputs": [],
   "source": [
    "df_trim = df[(df.index > pd.to_datetime('2021-10-18').tz_localize('utc')) & (df.index < pd.to_datetime('2021-10-21').tz_localize('utc'))]#"
   ]
  },
  {
   "cell_type": "code",
   "execution_count": null,
   "id": "97fcd920-9c5a-4a3c-ad94-ef91f0e27211",
   "metadata": {},
   "outputs": [],
   "source": [
    "def create_prod_twap(rai_eth, prod_twap, eth_usd,  window_size, period_size, eth_usd_col='eth_usd', fill=False):\n",
    "    \"\"\"\n",
    "    Parameters\n",
    "    ----------\n",
    "    rai_eth: 1m rai_eth\n",
    "    prod_twap: twap values only at time of update\n",
    "    eth_usd: 1m chainlink eth_usd\n",
    "    \n",
    "    \"\"\"\n",
    "   \n",
    "    df_rai['rai_eth_mean'] = rai_eth.rolling(str(window_size+0.666) + 'H').mean()\n",
    "\n",
    "    df_twap_link = pd.merge(prod_twap, eth_usd, left_index=True, right_index=True)\n",
    "\n",
    "    df_twap_link[eth_usd_col + '_mean'] = df_twap_link.rolling(str(window_size) + 'H')[eth_usd_col].mean()\n",
    "\n",
    "    df_r = pd.merge(df_rai['rai_eth_mean'], df_twap_link[eth_usd_col + '_mean'], left_index=True, right_index=True)\n",
    "    df_r['twap_usd_r'] = df_r['rai_eth_mean'] * df_twap_link[eth_usd_col + '_mean']\n",
    "    \n",
    "    if not fill:\n",
    "        return df_r\n",
    "    \n",
    "    return df_r.asfreq('1min', method='ffill')\n",
    "\n",
    "def create_prod_twap2(rai_eth, prod_twap, eth_usd, window_size, period_size, eth_usd_col='eth_usd', fill=False):\n",
    "    \"\"\"\n",
    "    Parameters\n",
    "    ----------\n",
    "    rai_eth: 1m rai/eth\n",
    "    prod_twap: twap values only at time of update\n",
    "    eth_usd: 1m chainlink eth_usd\n",
    "    \n",
    "    \"\"\"\n",
    "    # for each twap update in `prod_twap`\n",
    "    #     get rai/eth mean since first rai/eth obs-\n",
    "    #     get eth/usd mean since first eth/usd obs\n",
    "    #\n",
    "    #\n",
    "    #\n",
    "    rai_eth_mean = rai_eth.rolling(str(window_size+0.666) + 'H').mean()\n",
    "\n",
    "    df_twap_link = pd.merge(prod_twap, eth_usd, left_index=True, right_index=True)\n",
    "    \n",
    "    df_twap_link['time'] = df_twap_link.index.values\n",
    "    \n",
    "    df_twap_link['time_diff'] = df_twap_link['time'].diff().dt.total_seconds()\n",
    "    \n",
    "    df_twap_link['eth_usd_time_adj'] =  df_twap_link[eth_usd_col] * df_twap_link['time_diff']\n",
    "    \n",
    "    df_twap_link['eth_usd_cum'] = df_twap_link['eth_usd_time_adj'].rolling(period_size).sum()\n",
    "    \n",
    "    df_twap_link['sec_since_first'] = (df_twap_link['time'] - df_twap_link['time'].shift(period_size)).dt.total_seconds()\n",
    "    \n",
    "    df_twap_link[eth_usd_col + '_mean'] = df_twap_link['eth_usd_cum']/df_twap_link['sec_since_first']\n",
    "\n",
    "    df_r = pd.merge(rai_eth_mean, df_twap_link[eth_usd_col + '_mean'], left_index=True, right_index=True)\n",
    "    df_r.info()\n",
    "    df_r['twap_usd_r'] = df_r['rai_eth'] * df_twap_link[eth_usd_col + '_mean']\n",
    "    \n",
    "    if not fill:\n",
    "        return df_r\n",
    "    \n",
    "    return df_r.asfreq('1min', method='ffill')\n",
    "\n",
    "def create_prod_twap3(rai_eth, prod_twap, eth_usd, window_size, period_size, eth_usd_col='eth_usd', fill=False):\n",
    "    \"\"\"\n",
    "    Parameters\n",
    "    ----------\n",
    "    rai_eth: 1m rai/eth\n",
    "    prod_twap: twap values only at time of update\n",
    "    eth_usd: 1m chainlink eth_usd\n",
    "    \n",
    "    \"\"\"\n",
    "    assert window_size % period_size == 0\n",
    "    \n",
    "    granularity = int(window_size / period_size)\n",
    "    # for each twap update in `prod_twap`\n",
    "    #     get rai/eth mean since first rai/eth obs-\n",
    "    #     get eth/usd mean since first eth/usd obs\n",
    "    #\n",
    "    #\n",
    "    #\n",
    "    rai_eth_mean = rai_eth.rolling(str(window_size+0.666) + 'H').mean()\n",
    "\n",
    "    df_twap_link = pd.merge(prod_twap, eth_usd, left_index=True, right_index=True)\n",
    "    \n",
    "    df_twap_link['time'] = df_twap_link.index.values\n",
    "    \n",
    "    df_twap_link['time_diff'] = df_twap_link['time'].diff().dt.total_seconds()\n",
    "    \n",
    "    df_twap_link['eth_usd_time_adj'] =  df_twap_link[eth_usd_col] * df_twap_link['time_diff']\n",
    "    \n",
    "    df_twap_link['eth_usd_cum'] = df_twap_link['eth_usd_time_adj'].rolling(granularity).sum()\n",
    "    \n",
    "    df_twap_link['sec_since_first'] = (df_twap_link['time'] - df_twap_link['time'].shift(granularity)).dt.total_seconds()\n",
    "    \n",
    "    \n",
    "    #print(df_twap_link[df_twap_link['sec_since_first'] > 26 * 3600])\n",
    "    \n",
    "    df_twap_link[eth_usd_col + '_mean'] = df_twap_link['eth_usd_cum']/df_twap_link['sec_since_first']\n",
    "\n",
    "    df_r = pd.merge(rai_eth_mean, df_twap_link[eth_usd_col + '_mean'], left_index=True, right_index=True)\n",
    "    #df_r.info()\n",
    "    \n",
    "    # covariance with granularity samples\n",
    "    #df_cov = pd.merge(rai_eth, df_twap_link, left_index=True, right_index=True)   \n",
    "    #df_cov['cov'] = df_cov['rai_eth'].rolling(granularity).cov(df_cov[eth_usd_col])\n",
    "    \n",
    "    # covariance over all values in window\n",
    "    df_cov = pd.merge(rai_eth, eth_usd, left_index=True, right_index=True) \n",
    "    df_cov['cov'] = df_cov['rai_eth'].rolling(str(window_size+0.666) + 'H').cov(df_cov[eth_usd_col])\n",
    "    \n",
    "    df_r['twap_usd_r'] = df_r['rai_eth'] * df_twap_link[eth_usd_col + '_mean'] + df_cov['cov']\n",
    "    \n",
    "    if not fill:\n",
    "        return df_r\n",
    "    \n",
    "    return df_r.asfreq('1min', method='ffill')"
   ]
  },
  {
   "cell_type": "code",
   "execution_count": null,
   "id": "c3786db5-ce5a-4471-a79c-0f0d921d6bce",
   "metadata": {},
   "outputs": [],
   "source": [
    "len(df_rai['rai_eth']), len(df_twap['twap_usd']), len(df_link['eth_usd_link'])"
   ]
  },
  {
   "cell_type": "code",
   "execution_count": null,
   "id": "90d1de05-1be2-45f0-8a73-d2a978ddd4c6",
   "metadata": {},
   "outputs": [],
   "source": [
    "df_r = create_prod_twap(df_rai['rai_eth'], df_twap['twap_usd'], df_link['eth_usd_link'], window_size=16, period_size=4, eth_usd_col='eth_usd_link')\n",
    "df_r2 = create_prod_twap2(df_rai['rai_eth'], df_twap['twap_usd'], df_link['eth_usd_link'], window_size=16, period_size=4, eth_usd_col='eth_usd_link')\n",
    "df_r3 = create_prod_twap3(df_rai['rai_eth'], df_twap['twap_usd'], df_link['eth_usd_link'], window_size=16, period_size=4, eth_usd_col='eth_usd_link')\n",
    "\n",
    "#df_r_b = create_prod_twap(df_rai['rai_eth'], df_twap['twap_usd'], df_relay['eth_usd'], window_size=16, period_size=4, eth_usd_col='eth_usd')\n",
    "#df_r2_b = create_prod_twap2(df_rai['rai_eth'], df_twap['twap_usd'], df_relay['eth_usd'], window_size=16, period_size=4, eth_usd_col='eth_usd')"
   ]
  },
  {
   "cell_type": "code",
   "execution_count": null,
   "id": "d64317f8-e282-4231-9dda-47a18c4e21f3",
   "metadata": {},
   "outputs": [],
   "source": [
    "#df['twap_usd'].tail(100)"
   ]
  },
  {
   "cell_type": "code",
   "execution_count": null,
   "id": "3177a0b0-e263-4db6-84fc-7c5c86e66850",
   "metadata": {},
   "outputs": [],
   "source": [
    "#df_trim = pd.merge(df, df_r2['twap_usd_r'], left_index=True, right_index=True)"
   ]
  },
  {
   "cell_type": "code",
   "execution_count": null,
   "id": "38577400-5272-4acc-91ea-e0daa0254cf6",
   "metadata": {},
   "outputs": [],
   "source": [
    "#df_trim.head(20)"
   ]
  },
  {
   "cell_type": "code",
   "execution_count": null,
   "id": "9c736521-5f91-4ba1-a387-d19953994303",
   "metadata": {},
   "outputs": [],
   "source": [
    "df_fill = df.asfreq('1min', method='ffill')\n",
    "df_fill.tail(10)"
   ]
  },
  {
   "cell_type": "code",
   "execution_count": null,
   "id": "606df696-3ee8-4774-b5f4-0a9a38507b0e",
   "metadata": {},
   "outputs": [],
   "source": [
    "# Create spot RAI/USD from spot RAI/ETH and Chainlink ETH/USD\n",
    "rai_link= pd.merge(df_rai['rai_eth'], df_link['eth_usd_link'], left_index=True, right_index=True)\n",
    "rai_link['rai_usd'] = rai_link['rai_eth'] * rai_link['eth_usd_link']"
   ]
  },
  {
   "cell_type": "code",
   "execution_count": null,
   "id": "b522d302-41d3-404d-bd79-1e34f869d532",
   "metadata": {},
   "outputs": [],
   "source": [
    "ax = df['twap_usd'][-50:-20].plot(color='blue', label='prod', drawstyle='steps-post')\n",
    "\n",
    "#df_r['twap_usd_r'][-100:].plot(ax=ax, color='blue', label='r', drawstyle='steps-post')\n",
    "df_r3['twap_usd_r'][-100:].plot(ax=ax, color='green', label='r3', drawstyle='steps-post')\n",
    "#df_fill['rai_usd'][-8000:].plot(ax=ax, color='red', label='spot')\n",
    "rai_link['rai_usd'][-30000:-10000].plot(ax=ax, alpha=0.5, color='red', label='rai_usd spot', lw=0.5)\n",
    "\n",
    "#df_r2_b['twap_usd_r'][-50:-20].plot(ax=ax, color='red', label='r2', drawstyle='steps-post')\n",
    "#df_r_b['twap_usd_r'][-100:].plot(ax=ax, color='blue', label='r', drawstyle='steps-post')\n",
    "\n",
    "\n",
    "plt.title('Reconstructed TWAP vs prod TWAP')\n",
    "plt.legend()"
   ]
  },
  {
   "cell_type": "markdown",
   "id": "16e4bfb6-4a8a-449c-9c3f-f5c4fbf0a921",
   "metadata": {},
   "source": [
    "# Prod RAI/USD TWAP vs RAI/USD spot"
   ]
  },
  {
   "cell_type": "code",
   "execution_count": null,
   "id": "7e03a378-e341-42bf-a07f-93283cb6b69e",
   "metadata": {},
   "outputs": [],
   "source": [
    "# Create spot RAI/USD from spot RAI/ETH and Chainlink ETH/USD\n",
    "#rai_link= pd.merge(df_rai['rai_eth'], df_link['eth_usd_link'], left_index=True, right_index=True)\n",
    "#rai_link['rai_usd'] = rai_link['rai_eth'] * rai_link['eth_usd_link']"
   ]
  },
  {
   "cell_type": "code",
   "execution_count": null,
   "id": "00d4687a-29fe-48f0-9e65-400b5c813b86",
   "metadata": {},
   "outputs": [],
   "source": [
    "df_fill = df.asfreq('1min', method='ffill')"
   ]
  },
  {
   "cell_type": "code",
   "execution_count": null,
   "id": "2d68bbeb-8ec6-4a90-a692-6a28b66d42f6",
   "metadata": {},
   "outputs": [],
   "source": [
    "rai_link.tail(5)"
   ]
  },
  {
   "cell_type": "code",
   "execution_count": null,
   "id": "84ea5c1c-c1aa-40b8-aaa8-47e845ff0f61",
   "metadata": {},
   "outputs": [],
   "source": [
    "ax = df_fill['twap_usd'][-N_PLOTS:].plot(color='blue', label='prod twap', drawstyle=\"steps-post\")\n",
    "rai_link['rai_usd'][-N_PLOTS:].plot(ax=ax, alpha=0.5, color='red', label='rai_usd spot', lw=0.5)\n",
    "plt.title('Prod TWAP')\n",
    "plt.legend()"
   ]
  },
  {
   "cell_type": "markdown",
   "id": "df0e78e1-0c5c-453e-a905-e7bc136eb498",
   "metadata": {},
   "source": [
    "### TWAPs with different parameters"
   ]
  },
  {
   "cell_type": "code",
   "execution_count": null,
   "id": "dd4b4151-31d5-4bc0-9cdc-2fb4f5f29e8a",
   "metadata": {},
   "outputs": [],
   "source": [
    "params = [(16, 4), (24, 8), (40, 8)]"
   ]
  },
  {
   "cell_type": "code",
   "execution_count": null,
   "id": "044cc293-ee95-4db0-bbab-37e487a7a076",
   "metadata": {},
   "outputs": [],
   "source": [
    "# spot rai/usd\n",
    "ax = rai_link['rai_usd'][-N_PLOTS:].plot(alpha=0.5, color='red', label='spot', lw=0.5)\n",
    "\n",
    "# prod twap\n",
    "#t['twap_usd'][-N_PLOTS:].plot(ax=ax, alpha=0.5, color='blue', label='prod twap')\n",
    "\n",
    "#recreate prod\n",
    "#t = create_prod_twap(df, 16, 4, 'eth_usd_link')\n",
    "\n",
    "t = create_prod_twap(df_rai['rai_eth'], df_twap['twap_usd'], df_link['eth_usd_link'], 16, 4, fill=True)\n",
    "twap_col = 'twap_usd_r'\n",
    "t[twap_col][-N_PLOTS:].plot(alpha=0.5, color='grey', label=f'recreate prod 16 4', ax=ax, drawstyle='steps-post')\n",
    "\n",
    "for window_size, period_size in params:\n",
    "    print(f\"{window_size=}, {period_size=}\")\n",
    "    t = create_prod_twap(df_rai['rai_eth'], df_twap['twap_usd'], df_link['eth_usd_link'], window_size, period_size, fill=True)\n",
    "\n",
    "    twap_col = 'twap_usd_r'\n",
    "    t[twap_col][-N_PLOTS:].plot(label=f'{window_size=}, {period_size=}', ax=ax, drawstyle='steps-post')\n",
    "plt.title('TWAPs')\n",
    "plt.legend(fontsize=7)\n",
    "## get real RAI historical params\n",
    "## plot entire RAI TWAP history, show param changes"
   ]
  },
  {
   "cell_type": "markdown",
   "id": "a2377e62-a346-4580-8c20-8ceb2a2337d3",
   "metadata": {},
   "source": [
    "\n"
   ]
  },
  {
   "cell_type": "markdown",
   "id": "4a2058ab-578f-469a-ae9d-22cc7fd9385b",
   "metadata": {},
   "source": [
    "## Chainlink RAI/USD Feed"
   ]
  },
  {
   "cell_type": "code",
   "execution_count": null,
   "id": "ded6417b-96b5-4260-9b7c-fb0cb55ed504",
   "metadata": {},
   "outputs": [],
   "source": [
    "ax = df_fill['rai_usd_link'][-N_PLOTS:].plot(color='orange', label='CL RAI/USD')\n",
    "\n",
    "rai_link['rai_usd'][-N_PLOTS:].plot(ax=ax, alpha=0.5, color='red', label='rai_usd spot', lw=0.5)\n",
    "\n",
    "rai_link['rai_usd'].rolling('16H').mean()[-N_PLOTS:].plot(ax=ax, alpha=0.5, color='black', label='rai_usd 16H MA')\n",
    "plt.title('Chainlink RAI/USD feed vs RAI/USD spot')\n",
    "plt.legend()"
   ]
  },
  {
   "cell_type": "code",
   "execution_count": null,
   "id": "1a8ea563-d358-4190-9206-8d3d33d66750",
   "metadata": {},
   "outputs": [],
   "source": [
    "# Create TWAP directly from RAI/USD\n",
    "def create_new_twap(df, window_size, period_size, rai_usd_col):\n",
    "    twap_col = '_'.join(map(str, [rai_usd_col, window_size, period_size]))\n",
    "    \n",
    "    df_twap = df.resample(str(period_size) + 'H').first()[[rai_usd_col]]\n",
    "    \n",
    "    df_twap[twap_col] = df_twap.rolling(str(window_size) + 'H')[rai_usd_col].mean()\n",
    "    \n",
    "    df_twap = df_twap.asfreq('1min', method='ffill').drop(rai_usd_col, axis=1)\n",
    "    \n",
    "    df_final = pd.merge(df, df_twap, left_index=True, right_index=True)\n",
    "\n",
    "    return df_final"
   ]
  },
  {
   "cell_type": "code",
   "execution_count": null,
   "id": "d44c6aa6-4475-4c9d-926a-5621e363b5bb",
   "metadata": {},
   "outputs": [],
   "source": [
    "df_direct_cl = create_new_twap(df_fill, 40, 8, 'rai_usd_link')"
   ]
  },
  {
   "cell_type": "markdown",
   "id": "6cff3c0e-e46e-4496-8125-26ccd620acff",
   "metadata": {},
   "source": [
    "## TWAP of Chainlink feed vs Prod TWAP"
   ]
  },
  {
   "cell_type": "code",
   "execution_count": null,
   "id": "81831aa8-c93f-4091-90fb-c68aa79a4bf4",
   "metadata": {},
   "outputs": [],
   "source": [
    "ax = df_direct_cl['rai_usd_link_40_8'][-N_PLOTS:].plot(color='orange', label='direct TWAP')\n",
    "rai_link['rai_usd'][-N_PLOTS:].plot(ax=ax, alpha=0.5, color='red', label='rai_usd spot', lw=0.5)\n",
    "plt.title('TWAP of Chainlink RAI/USD vs Prod TWAP')\n",
    "plt.legend()"
   ]
  },
  {
   "cell_type": "markdown",
   "id": "7361ce63-7b36-4c42-8543-e18a48453259",
   "metadata": {},
   "source": [
    "## New TWAP of Chainlink RAI/USD"
   ]
  },
  {
   "cell_type": "code",
   "execution_count": null,
   "id": "aebc7806-dc25-484a-9b5d-aea8333ab51b",
   "metadata": {},
   "outputs": [],
   "source": [
    "rai_link['rai_usd'].head(3)"
   ]
  },
  {
   "cell_type": "code",
   "execution_count": null,
   "id": "9489a9ee-4ea8-4698-bd1d-037d23a4ef32",
   "metadata": {},
   "outputs": [],
   "source": [
    "ax = df_new_twap['rai_usd'][-N_PLOTS:].plot(color='blue', label='new twap', drawstyle=\"steps-post\")\n",
    "rai_link['rai_usd'][-N_PLOTS:].plot(ax=ax, alpha=0.5, color='red', label='rai_usd spot', lw=0.5)\n",
    "plt.legend()"
   ]
  }
 ],
 "metadata": {
  "kernelspec": {
   "display_name": "geb-data-science",
   "language": "python",
   "name": "geb-data-science"
  },
  "language_info": {
   "codemirror_mode": {
    "name": "ipython",
    "version": 3
   },
   "file_extension": ".py",
   "mimetype": "text/x-python",
   "name": "python",
   "nbconvert_exporter": "python",
   "pygments_lexer": "ipython3",
   "version": "3.9.6"
  }
 },
 "nbformat": 4,
 "nbformat_minor": 5
}
