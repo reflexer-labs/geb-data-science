{
 "cells": [
  {
   "cell_type": "markdown",
   "id": "2f12e102",
   "metadata": {},
   "source": [
    "# RAI/USD vs ETH/USD, WIP"
   ]
  },
  {
   "cell_type": "markdown",
   "id": "e739d40c",
   "metadata": {},
   "source": [
    "Compare RAI/USD and ETH/USD"
   ]
  },
  {
   "cell_type": "code",
   "execution_count": 1,
   "id": "5dabf177",
   "metadata": {},
   "outputs": [],
   "source": [
    "import os\n",
    "import time\n",
    "from decimal import Decimal\n",
    "import pandas as pd\n",
    "import matplotlib.pyplot as plt\n",
    "import matplotlib\n",
    "\n",
    "from web3 import Web3, HTTPProvider\n",
    "\n",
    "from abis import ORACLE_RELAYER, ORACLE_RELAYER_ABI\n",
    "from abis import FSM, FSM_ABI\n",
    "\n",
    "from mp import fetch, fetch_link_mp, fetch_rp, fetch_fsm\n",
    "\n",
    "size = 15\n",
    "params = {'legend.fontsize': 'large',\n",
    "          'figure.figsize': (20,12),\n",
    "          'axes.labelsize': size,\n",
    "          'axes.titlesize': size,\n",
    "          'xtick.labelsize': size*0.75,\n",
    "          'ytick.labelsize': size*0.75,\n",
    "          'axes.titlepad': 25}\n",
    "\n",
    "plt.rcParams.update(params)"
   ]
  },
  {
   "cell_type": "code",
   "execution_count": null,
   "id": "cddd5c42-b079-4bf8-8e56-4227d218564c",
   "metadata": {},
   "outputs": [],
   "source": []
  },
  {
   "cell_type": "code",
   "execution_count": 2,
   "id": "b14997c4-a834-41ae-b45a-1b90ff9c42b2",
   "metadata": {},
   "outputs": [],
   "source": [
    "# Need an archive node\n",
    "#ETH_RPC_URL=os.environ['ETH_RPC_URL']\n",
    "ETH_RPC_URL='https://eth-mainnet.alchemyapi.io/v2/fnqkEt7-LptDIrq8uGem99usR6vUGqq7'\n",
    "web3 = Web3(HTTPProvider(endpoint_uri=ETH_RPC_URL, request_kwargs={\"timeout\": 10}))"
   ]
  },
  {
   "cell_type": "code",
   "execution_count": 3,
   "id": "a2e5cd4d-d48d-4701-a47d-7381b0310d02",
   "metadata": {},
   "outputs": [
    {
     "name": "stdout",
     "output_type": "stream",
     "text": [
      "first block 14939000, last_block 14940939\n"
     ]
    }
   ],
   "source": [
    "first_block = 14939000\n",
    "interval = 1\n",
    "num_blocks = None\n",
    "\n",
    "latest_block = web3.eth.getBlock(\"latest\")['number']\n",
    "\n",
    "if not num_blocks:\n",
    "    last_block = latest_block - 12\n",
    "else:\n",
    "    last_block = min(latest_block - 12, first_block + num_blocks)\n",
    "\n",
    "print(f\"first block {first_block}, last_block {last_block}\")\n",
    "blocks = list(range(first_block, last_block + 1, interval))"
   ]
  },
  {
   "cell_type": "code",
   "execution_count": 4,
   "id": "d4660afd-1396-4f57-ae70-859d9e9de7bf",
   "metadata": {},
   "outputs": [
    {
     "name": "stdout",
     "output_type": "stream",
     "text": [
      "took 40.398902893066406\n"
     ]
    }
   ],
   "source": [
    "start = time.time()\n",
    "results = fetch(fetch_fsm, 8, FSM, FSM_ABI, ETH_RPC_URL, blocks=blocks)\n",
    "print(f\"took {time.time() - start}\")"
   ]
  },
  {
   "cell_type": "code",
   "execution_count": 40,
   "id": "0dbe3de5-2e15-445e-baa5-c8e978105c21",
   "metadata": {},
   "outputs": [
    {
     "name": "stdout",
     "output_type": "stream",
     "text": [
      "<class 'pandas.core.frame.DataFrame'>\n",
      "Int64Index: 1190 entries, 750 to 1939\n",
      "Data columns (total 5 columns):\n",
      " #   Column       Non-Null Count  Dtype \n",
      "---  ------       --------------  ----- \n",
      " 0   block        1190 non-null   int64 \n",
      " 1   result       1190 non-null   object\n",
      " 2   valid        1190 non-null   bool  \n",
      " 3   next_result  1190 non-null   object\n",
      " 4   next_valid   1190 non-null   bool  \n",
      "dtypes: bool(2), int64(1), object(2)\n",
      "memory usage: 39.5+ KB\n",
      "<class 'pandas.core.frame.DataFrame'>\n",
      "Int64Index: 250 entries, 750 to 999\n",
      "Data columns (total 5 columns):\n",
      " #   Column       Non-Null Count  Dtype \n",
      "---  ------       --------------  ----- \n",
      " 0   block        250 non-null    int64 \n",
      " 1   result       250 non-null    object\n",
      " 2   valid        250 non-null    bool  \n",
      " 3   next_result  250 non-null    object\n",
      " 4   next_valid   250 non-null    bool  \n",
      "dtypes: bool(2), int64(1), object(2)\n",
      "memory usage: 8.3+ KB\n"
     ]
    }
   ],
   "source": [
    "df = pd.DataFrame(results, columns = ['block', 'result', 'valid', 'next_result', 'next_valid'])\n",
    "df = df[df['block'] >= 14939750]\n",
    "df.info()\n",
    "df = df[df['block'] < 14940000]\n",
    "df.info()"
   ]
  },
  {
   "cell_type": "code",
   "execution_count": 41,
   "id": "92d32751-cdf8-4753-98e5-e380434251d3",
   "metadata": {},
   "outputs": [
    {
     "data": {
      "text/plain": [
       "750    14939750\n",
       "751    14939751\n",
       "Name: block, dtype: int64"
      ]
     },
     "execution_count": 41,
     "metadata": {},
     "output_type": "execute_result"
    }
   ],
   "source": [
    "df['block'].head(2)"
   ]
  },
  {
   "cell_type": "code",
   "execution_count": 42,
   "id": "f7e77bd8-dbfc-49b3-8496-0576ccf5ef18",
   "metadata": {},
   "outputs": [
    {
     "data": {
      "text/plain": [
       "998    14939998\n",
       "999    14939999\n",
       "Name: block, dtype: int64"
      ]
     },
     "execution_count": 42,
     "metadata": {},
     "output_type": "execute_result"
    }
   ],
   "source": [
    "df['block'].tail(2)"
   ]
  },
  {
   "cell_type": "code",
   "execution_count": 43,
   "id": "bd633bb3-cd74-495d-bd7a-0e14c5f34733",
   "metadata": {},
   "outputs": [
    {
     "data": {
      "text/plain": [
       "250"
      ]
     },
     "execution_count": 43,
     "metadata": {},
     "output_type": "execute_result"
    }
   ],
   "source": [
    "\n",
    "len(df['next_valid'])"
   ]
  },
  {
   "cell_type": "code",
   "execution_count": 44,
   "id": "bde6780d-828a-4ad8-82aa-1868095d5631",
   "metadata": {},
   "outputs": [],
   "source": [
    "df['result'] = df['result'].astype(float)\n",
    "df['next_result'] = df['next_result'].astype(float)"
   ]
  },
  {
   "cell_type": "code",
   "execution_count": 45,
   "id": "d0b48e68-7889-4cf0-b6a3-52a313a1ac09",
   "metadata": {},
   "outputs": [
    {
     "data": {
      "text/plain": [
       "<AxesSubplot:xlabel='block'>"
      ]
     },
     "execution_count": 45,
     "metadata": {},
     "output_type": "execute_result"
    },
    {
     "data": {
      "image/png": "[encoded data removed]",
      "text/plain": [
       "<Figure size 1440x864 with 1 Axes>"
      ]
     },
     "metadata": {
      "needs_background": "light"
     },
     "output_type": "display_data"
    }
   ],
   "source": [
    "ax = df.plot(x='block', y='result')\n",
    "df.plot(x='block', y='next_result', ax=ax)"
   ]
  },
  {
   "cell_type": "code",
   "execution_count": 46,
   "id": "696a02c4-cb1e-42d2-8d6b-7e17a974d3b8",
   "metadata": {},
   "outputs": [
    {
     "ename": "NameError",
     "evalue": "name 'rai_df' is not defined",
     "output_type": "error",
     "traceback": [
      "\u001b[0;31m---------------------------------------------------------------------------\u001b[0m",
      "\u001b[0;31mNameError\u001b[0m                                 Traceback (most recent call last)",
      "\u001b[0;32m/var/folders/z_/tzvx3mfs7rsbb8dxt0rd157w0000gn/T/ipykernel_54930/2298901423.py\u001b[0m in \u001b[0;36m<module>\u001b[0;34m\u001b[0m\n\u001b[0;32m----> 1\u001b[0;31m \u001b[0mrai_df\u001b[0m\u001b[0;34m.\u001b[0m\u001b[0mto_csv\u001b[0m\u001b[0;34m(\u001b[0m\u001b[0;34m'redemption_price_1h_blocks.csv'\u001b[0m\u001b[0;34m)\u001b[0m\u001b[0;34m\u001b[0m\u001b[0;34m\u001b[0m\u001b[0m\n\u001b[0m",
      "\u001b[0;31mNameError\u001b[0m: name 'rai_df' is not defined"
     ]
    }
   ],
   "source": [
    "rai_df.to_csv('redemption_price_1h_blocks.csv')"
   ]
  },
  {
   "cell_type": "code",
   "execution_count": null,
   "id": "77c80642-9fdc-445d-b4bf-bd4e22487432",
   "metadata": {},
   "outputs": [],
   "source": [
    "eth_df.to_csv('eth_usd_1h_blocks.csv')"
   ]
  },
  {
   "cell_type": "markdown",
   "id": "cfda4b9a-bbd5-4ff5-9685-fd69fa044677",
   "metadata": {},
   "source": [
    "Read existing csvs"
   ]
  },
  {
   "cell_type": "code",
   "execution_count": null,
   "id": "56ee77d0-2091-4a6e-9254-37487c279e77",
   "metadata": {},
   "outputs": [],
   "source": [
    "#rai_df = pd.read_csv('redemption_price_7d_blocks.csv')"
   ]
  },
  {
   "cell_type": "code",
   "execution_count": null,
   "id": "098864a0-3a9d-4131-8e46-7810689c1d36",
   "metadata": {},
   "outputs": [],
   "source": [
    "#eth_df = pd.read_csv('eth_usd_7d_blocks.csv')"
   ]
  },
  {
   "cell_type": "code",
   "execution_count": null,
   "id": "91f899e7-e8de-4167-a004-112542a0f466",
   "metadata": {},
   "outputs": [],
   "source": [
    "rai_df.head(4)"
   ]
  },
  {
   "cell_type": "raw",
   "id": "9d695359-dc58-43be-8eb6-55a17658ee0a",
   "metadata": {},
   "source": []
  },
  {
   "cell_type": "code",
   "execution_count": null,
   "id": "d301f841-3f5f-4dab-9670-c2b423d05f67",
   "metadata": {},
   "outputs": [],
   "source": [
    "rai_df['rai_ret'] = rai_df['price'].pct_change()\n",
    "eth_df['eth_ret'] = eth_df['price'].pct_change()"
   ]
  },
  {
   "cell_type": "code",
   "execution_count": null,
   "id": "78de7fd3-a830-4ace-b8f5-1c6665311f9c",
   "metadata": {},
   "outputs": [],
   "source": [
    "df = rai_df.merge(eth_df, on='block')"
   ]
  },
  {
   "cell_type": "code",
   "execution_count": null,
   "id": "08dcc134-2619-4246-96d9-500db8094794",
   "metadata": {},
   "outputs": [],
   "source": [
    "df.info()"
   ]
  },
  {
   "cell_type": "code",
   "execution_count": null,
   "id": "8c6774ef-3865-4723-87a9-3d178a76747f",
   "metadata": {},
   "outputs": [],
   "source": [
    "df_final = df[['block', 'rai_ret', 'eth_ret']]"
   ]
  },
  {
   "cell_type": "code",
   "execution_count": null,
   "id": "85abfde4-788b-4299-bff3-6bfacae2a86d",
   "metadata": {},
   "outputs": [],
   "source": [
    "df_final.info()"
   ]
  },
  {
   "cell_type": "code",
   "execution_count": null,
   "id": "37e61e15-1948-4639-9345-fc3fc07089c8",
   "metadata": {},
   "outputs": [],
   "source": [
    "df_final_index = df_final.set_index('block')"
   ]
  },
  {
   "cell_type": "code",
   "execution_count": null,
   "id": "9b580560-650a-42af-a13f-0b6f0e77b924",
   "metadata": {},
   "outputs": [],
   "source": [
    "df_final_index['rai_ret'].rolling(10).corr(df_final_index['eth_ret']).plot(title='Rolling 10-period correlation between 7d ETH/USD and 7d redemption price returns')\n",
    "\n"
   ]
  },
  {
   "cell_type": "code",
   "execution_count": null,
   "id": "2d2a9272-8951-4992-9cd1-a0f144493c12",
   "metadata": {},
   "outputs": [],
   "source": [
    "rai_df['price_norm'] = (rai_df['price'] - min(rai_df['price'])) / (max(rai_df['price']) - min(rai_df['price']))\n",
    "eth_df['price_norm'] = (eth_df['price'] - min(eth_df['price'])) / (max(eth_df['price']) - min(eth_df['price']))"
   ]
  },
  {
   "cell_type": "code",
   "execution_count": null,
   "id": "26ae283c-baf7-4583-8e8b-de8b39d05918",
   "metadata": {},
   "outputs": [],
   "source": []
  },
  {
   "cell_type": "code",
   "execution_count": null,
   "id": "9290e2e3-06f1-46fd-ba04-29d78db7aab4",
   "metadata": {},
   "outputs": [],
   "source": [
    "fig, ax = plt.subplots(1,1)\n",
    "eth_df.plot(y='price_norm', x='block', ax=ax, label='Weekly eth/usd standardized', color='black')\n",
    "rai_df.plot(y='price_norm', x='block', ax=ax, label='Weekly rai/usd standardized', color='blue')"
   ]
  },
  {
   "cell_type": "code",
   "execution_count": null,
   "id": "de217b96-97a6-4d2e-b6b2-23901be174c0",
   "metadata": {},
   "outputs": [],
   "source": [
    "rai_df.plot(y='price_norm', x='block')"
   ]
  },
  {
   "cell_type": "code",
   "execution_count": null,
   "id": "f0864265-147f-4fb1-b5ad-b705c52974c6",
   "metadata": {},
   "outputs": [],
   "source": [
    "'''\n",
    "# https://stackoverflow.com/questions/33171413/cross-correlation-time-lag-correlation-with-pandas\n",
    "\n",
    "lagged_correlation = pd.DataFrame.from_dict(\n",
    "    {x: [df[target].corr(df[x].shift(-t)) for t in range(max_lag)] for x in df.columns})\n",
    "'''"
   ]
  },
  {
   "cell_type": "code",
   "execution_count": null,
   "id": "3a4b8734-c025-48d7-a8f9-1ef5a01e97a7",
   "metadata": {},
   "outputs": [],
   "source": [
    "df_final_index['rai_ret'].astype(float).corr(df_final_index['eth_ret'].shift(1))"
   ]
  },
  {
   "cell_type": "code",
   "execution_count": null,
   "id": "04ba767d-18dc-4ff2-b061-3ed1a56949db",
   "metadata": {},
   "outputs": [],
   "source": []
  },
  {
   "cell_type": "code",
   "execution_count": null,
   "id": "b22764bb-e107-470d-8778-d597c8a2d204",
   "metadata": {},
   "outputs": [],
   "source": [
    "'''\n",
    "# https://stackoverflow.com/questions/33171413/cross-correlation-time-lag-correlation-with-pandas\n",
    "\n",
    "lagged_correlation = pd.DataFrame.from_dict(\n",
    "    {x: [df[target].corr(df[x].shift(-t)) for t in range(max_lag)] for x in df.columns})\n",
    "'''"
   ]
  },
  {
   "cell_type": "code",
   "execution_count": null,
   "id": "164dcd1e-e1a6-418e-a694-b3be55140d33",
   "metadata": {},
   "outputs": [],
   "source": [
    "max_lag = 168\n",
    "for x in range(max_lag):\n",
    "    corr = df_final_index['rai_ret'].iloc[-24*30:].astype(float).corr(df_final_index['eth_ret'].iloc[-24*30:].shift(x))\n",
    "    print(x, corr)\n"
   ]
  },
  {
   "cell_type": "code",
   "execution_count": null,
   "id": "90c9bc4f-5448-45e6-9ca8-211125a4feaf",
   "metadata": {},
   "outputs": [],
   "source": []
  }
 ],
 "metadata": {
  "kernelspec": {
   "display_name": "Python (Reflexer DT)",
   "language": "python",
   "name": "python-reflexer-dt"
  },
  "language_info": {
   "codemirror_mode": {
    "name": "ipython",
    "version": 3
   },
   "file_extension": ".py",
   "mimetype": "text/x-python",
   "name": "python",
   "nbconvert_exporter": "python",
   "pygments_lexer": "ipython3",
   "version": "3.9.6"
  }
 },
 "nbformat": 4,
 "nbformat_minor": 5
}
