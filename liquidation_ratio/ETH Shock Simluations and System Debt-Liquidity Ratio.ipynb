{
 "cells": [
  {
   "cell_type": "markdown",
   "id": "7ef1ebea-d8b4-4999-bf8c-12a3a34ee8fe",
   "metadata": {},
   "source": [
    "# ETH Shock Analysis\n",
    "\n",
    "## Purpose\n",
    "Expore how different states(liquidation ratios, liquidity, surplus, etc) affect the risk of bad-debt creation in the Reflexer system by simulating *instantaneous* ETH/USD shocks.\n",
    "To examine historical ETH shocks see [Historical ETH Shocks](<Historical ETH Shocks.ipynb>)\n",
    "\n",
    "#### Note: Same as [ETH Shock Simulations and System Debt](<ETH Shock Simulations and System Debt.ipynb>) but uses liquidity-to-debt ratios instead of absolute liquidity amounts."
   ]
  },
  {
   "cell_type": "code",
   "execution_count": 1,
   "id": "975d1962-20df-4fc3-acfa-1f1b5ae1eb8e",
   "metadata": {},
   "outputs": [],
   "source": [
    "import time\n",
    "import math\n",
    "import pandas as pd\n",
    "import numpy as np\n",
    "import requests\n",
    "import json\n",
    "#import multiprocess\n",
    "#from multiprocess import Pool\n",
    "from decimal import Decimal\n",
    "import matplotlib.pyplot as plt\n",
    "import scipy.stats as ss\n",
    "from sklearn.preprocessing import PowerTransformer\n",
    "from web3 import Web3, HTTPProvider\n",
    "\n",
    "from scipy.stats import multivariate_normal\n",
    "\n",
    "import seaborn as sns\n",
    "from fitter import Fitter, get_common_distributions, get_distributions\n",
    "\n",
    "from uniswap import get_input_price, get_output_price, buy_to_price\n",
    "from graph_util import fetch_safes, fetch_rp, fetch_debt_ceiling, fetch_saviour_safes\n",
    "from web3_util import fetch_saviour_targets\n",
    "from util import chunks"
   ]
  },
  {
   "cell_type": "code",
   "execution_count": 2,
   "id": "5020dbb6-2c08-405b-bf0f-1869b8136606",
   "metadata": {},
   "outputs": [],
   "source": [
    "plt.rcParams['figure.figsize'] = [12, 8]\n",
    "plt.rcParams['figure.dpi'] = 100 "
   ]
  },
  {
   "cell_type": "markdown",
   "id": "eef6233f-3b21-4654-a317-0040bf6f2e7d",
   "metadata": {},
   "source": [
    "## Define Some Sim Functions"
   ]
  },
  {
   "cell_type": "code",
   "execution_count": 3,
   "id": "2aa867a9-15b2-4fba-8d93-f8ccadfe9322",
   "metadata": {},
   "outputs": [],
   "source": [
    "def update_cratios(safes, eth_price, redemption_price):\n",
    "    # update c-ratio based on `eth_price` and `redemption_price`\n",
    "    new_safes = safes.copy()\n",
    "    new_safes['cratio'] = new_safes['collateral'] * eth_price / (new_safes['debt'] * redemption_price)\n",
    "    return new_safes"
   ]
  },
  {
   "cell_type": "code",
   "execution_count": 4,
   "id": "1e588100-4aa8-4d38-88da-5a64c7428a38",
   "metadata": {},
   "outputs": [],
   "source": [
    "def liquidate_critical(safes, liq_cratio=1.35):\n",
    "    \"\"\"\n",
    "    Returns the total amount of collateral and debt of `safes` that have a c-ratio \n",
    "    less than are `liq_cratio`\n",
    "    Parameters\n",
    "    ----------\n",
    "    safes: pd.DataFrame\n",
    "        SAFEs dataframe\n",
    "    liq_cratio: float\n",
    "        liquidation c-ratio parameter of the system\n",
    "    Returns\n",
    "    --------\n",
    "    critical_collatera, critical_debt: float, float\n",
    "        Amount of collateral and debt belonging to liquidated SAFEs\n",
    "    \"\"\"\n",
    "\n",
    "    critical_safes = safes.query(f'cratio < {liq_cratio}')\n",
    "    critical_collateral, critical_debt = critical_safes[['collateral', 'debt']].sum()\n",
    "    \n",
    "    return critical_collateral, critical_debt\n",
    "\n",
    "def adjust_safe_debt_and_cratios(safes, debt_adj, eth_price, redemption_price):\n",
    "    # adjust debt by `debt_adj` multiplier\n",
    "    # `debt_adj` is used to adjust individual SAFE debt to match expected values when system liq_ratio is changed\n",
    "    # This preserves safe debt as a multiplier of liq_ratio\n",
    "    if debt_adj == 1:\n",
    "        return safes\n",
    "    new_safes = safes.copy()\n",
    "    \n",
    "    new_safes['debt'] *= debt_adj\n",
    "\n",
    "    return update_cratios(new_safes, eth_price, redemption_price)"
   ]
  },
  {
   "cell_type": "markdown",
   "id": "a4b11e51-824b-412e-b064-fb853ca4b89c",
   "metadata": {},
   "source": [
    "## Fetch Data"
   ]
  },
  {
   "cell_type": "code",
   "execution_count": 5,
   "id": "dedf8d2c-0fce-4c9b-9140-013d80759cd5",
   "metadata": {},
   "outputs": [],
   "source": [
    "#graphql_url = 'https://subgraph.reflexer.finance/subgraphs/name/reflexer-labs/rai'\n",
    "graphql_url = 'https://api.thegraph.com/subgraphs/name/reflexer-labs/rai-mainnet'\n",
    "eth_usd_url = 'https://api.coingecko.com/api/v3/simple/price?ids=ethereum&vs_currencies=usd'\n",
    "ETH_RPC_URL = 'https://mainnet.infura.io/v3/71de86fb79e940a7970bad3f43c0da4e'\n",
    "\n",
    "web3 = Web3(HTTPProvider(endpoint_uri=ETH_RPC_URL))\n",
    "\n",
    "ETH_USD = requests.get(eth_usd_url).json()['ethereum']['usd']\n",
    "REDEMPTION_PRICE = fetch_rp(graphql_url)\n",
    "DEBT_CEILING = fetch_debt_ceiling(graphql_url)\n",
    "\n",
    "# get saviour safes from graph\n",
    "saviour_safes = fetch_saviour_safes(graphql_url)\n",
    "\n",
    "# get LP info not available in graph\n",
    "saviour_safes = fetch_saviour_targets(web3, saviour_safes)\n",
    "\n",
    "orig_safes = fetch_safes(graphql_url)"
   ]
  },
  {
   "cell_type": "code",
   "execution_count": 6,
   "id": "bb4688d8-cf0c-4d19-ac75-5624abad434e",
   "metadata": {},
   "outputs": [
    {
     "data": {
      "text/html": [
       "<div>\n",
       "<style scoped>\n",
       "    .dataframe tbody tr th:only-of-type {\n",
       "        vertical-align: middle;\n",
       "    }\n",
       "\n",
       "    .dataframe tbody tr th {\n",
       "        vertical-align: top;\n",
       "    }\n",
       "\n",
       "    .dataframe thead th {\n",
       "        text-align: right;\n",
       "    }\n",
       "</style>\n",
       "<table border=\"1\" class=\"dataframe\">\n",
       "  <thead>\n",
       "    <tr style=\"text-align: right;\">\n",
       "      <th></th>\n",
       "      <th>collateral</th>\n",
       "      <th>debt</th>\n",
       "      <th>safeId</th>\n",
       "    </tr>\n",
       "  </thead>\n",
       "  <tbody>\n",
       "    <tr>\n",
       "      <th>0</th>\n",
       "      <td>0.0</td>\n",
       "      <td>0.0</td>\n",
       "      <td>1133</td>\n",
       "    </tr>\n",
       "    <tr>\n",
       "      <th>1</th>\n",
       "      <td>0.0</td>\n",
       "      <td>0.0</td>\n",
       "      <td>1753</td>\n",
       "    </tr>\n",
       "    <tr>\n",
       "      <th>2</th>\n",
       "      <td>0.0</td>\n",
       "      <td>0.0</td>\n",
       "      <td>878</td>\n",
       "    </tr>\n",
       "    <tr>\n",
       "      <th>3</th>\n",
       "      <td>0.0</td>\n",
       "      <td>0.0</td>\n",
       "      <td>1352</td>\n",
       "    </tr>\n",
       "    <tr>\n",
       "      <th>4</th>\n",
       "      <td>0.0</td>\n",
       "      <td>0.0</td>\n",
       "      <td>1927</td>\n",
       "    </tr>\n",
       "  </tbody>\n",
       "</table>\n",
       "</div>"
      ],
      "text/plain": [
       "   collateral  debt safeId\n",
       "0         0.0   0.0   1133\n",
       "1         0.0   0.0   1753\n",
       "2         0.0   0.0    878\n",
       "3         0.0   0.0   1352\n",
       "4         0.0   0.0   1927"
      ]
     },
     "execution_count": 6,
     "metadata": {},
     "output_type": "execute_result"
    }
   ],
   "source": [
    "orig_safes.head(5)"
   ]
  },
  {
   "cell_type": "code",
   "execution_count": 7,
   "id": "433a0864-f97d-4785-a2f5-d1af95d7ffa1",
   "metadata": {},
   "outputs": [],
   "source": [
    "# only consider SAFEs with debt\n",
    "orig_safes = orig_safes.query('debt > 0').reset_index(drop=True)\n",
    "saviour_safes = saviour_safes.query('debt > 0').reset_index(drop=True)"
   ]
  },
  {
   "cell_type": "code",
   "execution_count": 8,
   "id": "066a7833-dec6-4fa4-a1ff-4f9500347e49",
   "metadata": {},
   "outputs": [],
   "source": [
    "orig_safes['safeId'] = orig_safes['safeId'].astype(int)\n",
    "saviour_safes['safeId'] = saviour_safes['safeId'].astype(int)"
   ]
  },
  {
   "cell_type": "code",
   "execution_count": 9,
   "id": "ad129032-2c9c-4b8b-9472-a19c78d0d46c",
   "metadata": {},
   "outputs": [],
   "source": [
    "both_safes = pd.merge(orig_safes, saviour_safes, on='safeId', how='outer', indicator=True)\n",
    "non_saviour_safes = both_safes.query('_merge == \"left_only\"').reset_index(drop=True)\\\n",
    "                    .rename({'collateral_x': 'collateral', 'debt_x': 'debt'}, axis=1)\\\n",
    "                    [['collateral', 'debt', 'safeId']]"
   ]
  },
  {
   "cell_type": "markdown",
   "id": "9463e2df-017e-4ad4-8342-f947202d8bf8",
   "metadata": {},
   "source": [
    "## Mainnet Parameters"
   ]
  },
  {
   "cell_type": "code",
   "execution_count": 10,
   "id": "538e4ca6-a880-4256-9732-2c1d33670123",
   "metadata": {},
   "outputs": [],
   "source": [
    "MAINNET_LIQ_RATIO = 1.35 \n",
    "LIQ_PENALTY = 1.10\n",
    "MIN_DISCOUNT = 0.92\n",
    "MAX_DISCOUNT = 0.90\n",
    "MAINNET_SURPLUS_PCT = 533E3/DEBT_CEILING\n",
    " \n",
    "# use max_discount for collateral_auctions\n",
    "DISCOUNT = MAX_DISCOUNT\n",
    "\n",
    "# What percent of SAFE owners avoid liquidation with OSM delay\n",
    "OSM_RESPONSIVENESS = 0.50 \n",
    "\n",
    "# RAI pools\n",
    "# used only for Sim #1 that only uses Mainnet safe data, not simulated\n",
    "RAI_ETH_V2 = 1.645E6\n",
    "\n",
    "RAI_DAI_V3 = 870E3 \n",
    "RAI_USDC_V3 =  150E3\n",
    "\n",
    "CURVE = 12.1E6\n",
    "\n",
    "rai_v2_pool = RAI_ETH_V2\n",
    "usd_v2_pool = rai_v2_pool * REDEMPTION_PRICE\n",
    "\n",
    "# include curve amount as v3 pool, which assumes 1% slippage\n",
    "rai_v3_pool = RAI_DAI_V3 + RAI_USDC_V3 + CURVE\n",
    "usd_v3_pool = rai_v3_pool * REDEMPTION_PRICE\n",
    "\n",
    "#### Not currently used\n",
    "SURPLUS_BUFFER = 500000 # Not currently used\n",
    "DISCOUNT_UPDATE_RATE = Decimal(0.999991859697312485818842992) # Not currently used\n",
    "LIQUIDATION_QUANTITY = 90000.00 # Not currently used\n",
    "ON_AUCTION_SYSTEM_COIN_LIMIT = 4025086.73 # Not currently used\n",
    "#####\n"
   ]
  },
  {
   "cell_type": "markdown",
   "id": "0729376a-cbee-4ed4-88a8-f1d141751f92",
   "metadata": {},
   "source": [
    "## Sim Parameters"
   ]
  },
  {
   "cell_type": "code",
   "execution_count": 11,
   "id": "7e7efb34-b294-48a2-bfca-e2607a6cdc5b",
   "metadata": {},
   "outputs": [],
   "source": [
    "# Number of runs per shock\n",
    "# If 1, RAI/ETH responses will not be stochastic\n",
    "N_SHOCK_RUNS = 1 \n",
    "\n",
    "# Uncomment when modeling with only V2\n",
    "#N_SHOCK_RUNS = 10\n",
    "\n",
    "# Number of different SAFE populations to generate\n",
    "# Shocks of different magnitude will be simulated for each population\n",
    "N_SAFE_POPS = 200\n",
    "SAFE_POP_SEEDS = np.random.randint(0, 1E6, size=N_SAFE_POPS)\n",
    "\n",
    "# All pool to debt ratios to simulate\n",
    "V2_POOL_DEBTS = np.round(np.linspace(0.05, 0.30, 20), 3)\n",
    "V3_POOL_DEBTS = np.round(np.linspace(0.05, 0.30, 20), 3)\n",
    "\n",
    "# All starting surplus pcts to simulate\n",
    "# set as percent of DEBT_CEILING\n",
    "INITIAL_SURPLUS_PCTS = [0.005]\n",
    "\n",
    "# All collateral shocks to simulate\n",
    "min_shock = 0.10\n",
    "max_shock = 0.40\n",
    "n_shocks = int((max_shock - min_shock) * 100) + 1 #31\n",
    "\n",
    "SHOCKS = np.round(np.linspace(min_shock, max_shock, n_shocks), 4)\n",
    "TOTAL_SHOCKS = [1] # Number of shocks to run in succession, not currently used\n",
    "\n",
    "# Analysis Parameters\n",
    "# quantiles to report. ie. probability of bad debt\n",
    "QUANTILES = [0.95]"
   ]
  },
  {
   "cell_type": "markdown",
   "id": "87a9d4a3-b1a6-4a9d-9f4a-945c8fdd9d97",
   "metadata": {},
   "source": [
    "## Overview\n",
    "\n",
    "Explore bad debt creation during ETH/USD price dops.\n",
    "\n",
    "## Methodology\n",
    "\n",
    "Simulate an ETH/USD price drop of X%, then use RAI from Uniswap pools to settle resulting collateral auction and determine how much bad debt is created.\n",
    "\n",
    "## Simulations\n",
    "\n",
    "1) Mainnet collateral amounts and c-ratios\n",
    "\n",
    "2) Mainnet collateral amounts and stochastic c-ratios\n",
    "\n",
    "3) Stochastic collateral amounts and stochastic c-ratios\n",
    "\n",
    "4) Gaussian Mixture model for collateral amounts and c-ratios\n"
   ]
  },
  {
   "cell_type": "markdown",
   "id": "04c72e3b-0870-4666-bf3a-9c5e47ab59d4",
   "metadata": {},
   "source": [
    "## Assumptions\n",
    "1) All RAI for collateral auctions is purchased from the market. No RAI-holding keepers exist\n",
    "2) No RAI selling pressure during collateral shocks.\n",
    "Worst case RAI market price.  Keepers get worse deal for RAI than expected and can thus buy less collateral at a profit in collateral auctions.\n",
    "3) Saviours only considered in Sim #1.\n",
    "4) 50% OSM Responsiveness. \n",
    "Only 50% of SAFEs avoid liquidation through OSM ETH/USD price delay\n",
    "5) Gas prices are not considered\n",
    "6) Non Uniswap V2 slippage(Uni V3, Curve) is estimated at 1%"
   ]
  },
  {
   "cell_type": "code",
   "execution_count": 12,
   "id": "6e497e63-c5fb-4097-a6b5-a72af8c9c46f",
   "metadata": {},
   "outputs": [],
   "source": [
    "# run a single sim\n",
    "def run(safes, saviour_safes, liq_ratio, rai_v2_pool,\n",
    "        rai_v3_pool, eth_shock_price, initial_surplus_pct, rai_usd_shock=1.0, verbose=False):\n",
    "    \n",
    "    initial_surplus = initial_surplus_pct * DEBT_CEILING\n",
    "    #print(f\"{initial_surplus=}\")\n",
    "    if len(saviour_safes) > 0:\n",
    "        #saviour_safes = update_cratios(saviour_safes, eth_shock_price, REDEMPTION_PRICE)  \n",
    "        \n",
    "        # total syscoin removed from pool by saviours        \n",
    "        syscoin_lp = saviour_safes[saviour_safes['cratio'] < liq_ratio]['lp_syscoin'].sum()\n",
    "        rai_v2_pool_left = rai_v2_pool - syscoin_lp\n",
    "    else:\n",
    "        rai_v2_pool_left = rai_v2_pool \n",
    "\n",
    "    # Liquidate all critical SAFEs\n",
    "    critical_collateral, critical_debt = liquidate_critical(safes, liq_ratio)\n",
    "    \n",
    "    critical_collateral *= (1 - OSM_RESPONSIVENESS)\n",
    "    critical_debt *= (1 - OSM_RESPONSIVENESS)\n",
    "    \n",
    "    amount_to_raise = critical_debt * LIQ_PENALTY\n",
    "    if verbose:\n",
    "        print(f\"{critical_collateral=:.0f}, {critical_debt=:.0f}, {amount_to_raise=:.2f}\")\n",
    "        \n",
    "    discount_collateral_price = eth_shock_price * DISCOUNT\n",
    "    \n",
    "    total_collateral_cost = critical_collateral * discount_collateral_price\n",
    "    \n",
    "    # Use v3 pool \n",
    "    \n",
    "    # Assume rai market = redemption price and estimate slippage\n",
    "    # TODO: improve\n",
    "    rai_v3_market_price = REDEMPTION_PRICE * 1.01 # Estimate slippage in V3 pool.\n",
    "\n",
    "    # Use up to the entire pool to buy discounted collateral\n",
    "    v3_collateral_bought = min((rai_v3_pool * REDEMPTION_PRICE)/discount_collateral_price, critical_collateral) \n",
    "\n",
    "    collateral_left = critical_collateral - v3_collateral_bought\n",
    "\n",
    "    rai_v3_spent = v3_collateral_bought * discount_collateral_price / REDEMPTION_PRICE\n",
    "\n",
    "    amount_raised_v3 = rai_v3_spent\n",
    "\n",
    "    if verbose:\n",
    "        print(f\"{amount_raised_v3=:0f}\")\n",
    "        \n",
    "    if collateral_left == 0:\n",
    "        amount_deficit = critical_debt - amount_raised_v3\n",
    "\n",
    "    else: # then use V2 pool\n",
    "\n",
    "        amount_left_to_raise = amount_to_raise - rai_v3_spent\n",
    "        \n",
    "        if verbose:\n",
    "            print(f\"Using V2 pool. {amount_left_to_raise=:.0f}\")\n",
    "            \n",
    "        collateral_left_cost = collateral_left * discount_collateral_price\n",
    "\n",
    "        # max price to pay for RAI to make a profit on discounted collateral\n",
    "        max_market_price = REDEMPTION_PRICE / DISCOUNT\n",
    "        \n",
    "        current_market_price = REDEMPTION_PRICE * rai_usd_shock\n",
    "        #print(f\"{eth_shock_price=}, {current_market_price=}\")\n",
    "\n",
    "        # Max amount to buy to put cost-basis at `max_market_price`\n",
    "        how_much_v2_can_buy = 2 * buy_to_price(None, rai_v2_pool_left,\n",
    "                                               goal_price=max_market_price,\n",
    "                                               market_price=current_market_price)\n",
    "                                               #market_price=REDEMPTION_PRICE)\n",
    "        \n",
    "        # how is the pool affected with this swap\n",
    "        # This just confirms the expected final market price\n",
    "        #delta_usd, delta_rai = get_output_price(how_much_v2_can_buy, usd_v2_pool, rai_v2_pool, trade_fee=0.003)\n",
    "        # new market price\n",
    "        #print(f\"market price after buy {(usd_v2_pool + delta_usd)/(rai_v2_pool + delta_rai):.2f}\")\n",
    "\n",
    "        amount_raised_v2 = min(amount_left_to_raise, how_much_v2_can_buy)\n",
    "\n",
    "        amount_deficit = critical_debt - amount_raised_v2 - amount_raised_v3\n",
    "        #print(f\"{how_much_v2_can_buy=:2f}, {amount_raised_v2=:2f}, {amount_deficit=:2f}\")\n",
    "\n",
    "    if verbose:\n",
    "        print(f\"{amount_deficit=:2f}\")\n",
    "        \n",
    "    return initial_surplus - amount_deficit"
   ]
  },
  {
   "cell_type": "code",
   "execution_count": null,
   "id": "8a90f3e9-ce2b-484b-b331-44e7ef094be1",
   "metadata": {},
   "outputs": [],
   "source": []
  },
  {
   "cell_type": "code",
   "execution_count": 13,
   "id": "9ee423f0-f4a4-4a87-9624-81ea26452481",
   "metadata": {},
   "outputs": [],
   "source": [
    "# run many sims over multiple shocks\n",
    "def run_sims_iter(safes, v2_pool_debts, v3_pool_debts, initial_surplus_pcts, shocks=[], rai_returns={},\n",
    "                  liq_ratio=1.35, title='', sim_name='', verbose=False):\n",
    "    all_results = []\n",
    "    \n",
    "    # cross product\n",
    "    for v2_liq_debt, v3_liq_debt in [(x, y) for x in v2_pool_debts for y in v3_pool_debts]:\n",
    "        #if v2_liq_debt == v3_liq_debt == 0: # no liquidity\n",
    "        #    continue\n",
    "        for initial_surplus_pct in initial_surplus_pcts:\n",
    "            config_shocks = []\n",
    "            config_surpluses = []\n",
    "            config_safe_pops = []\n",
    "            \n",
    "            # for each safe population\n",
    "            for i, run_safes in enumerate(safes):\n",
    "                debt_usd = run_safes['debt'].sum()\n",
    "                collateral = run_safes['collateral'].sum()\n",
    "                rai_v2_pool = v2_liq_debt * debt_usd\n",
    "                rai_v3_pool = v3_liq_debt * debt_usd\n",
    "                plot_surpluses = []\n",
    "                # for each shock\n",
    "                for s in shocks:\n",
    "                    # Set eth shock price and update-cratios\n",
    "                    eth_shock_price = ETH_USD * (1 - s)\n",
    "                    updated_safes = update_cratios(run_safes, eth_shock_price, REDEMPTION_PRICE) \n",
    "                    #updated_saviour_safes = update_cratios(saviour_safes, eth_shock_price, REDEMPTION_PRICE)  \n",
    "                    # for each rai/usd shock\n",
    "                    for rai_usd_shock in rai_returns[s]: \n",
    "                        \n",
    "                        run_surplus = run(updated_safes, [], liq_ratio=liq_ratio,\n",
    "                                          rai_v2_pool=rai_v2_pool, rai_v3_pool=rai_v3_pool,\n",
    "                                          eth_shock_price=eth_shock_price, rai_usd_shock=rai_usd_shock,\n",
    "                                          initial_surplus_pct=initial_surplus_pct, verbose=verbose)\n",
    "                        if verbose:\n",
    "                            print(f\"{i=}, {v2_liq_debt=}, {v2_liq_debt=}, shock={-s}, {rai_usd_shock=:.2f}, {run_surplus=:.2f}\") \n",
    "                        \n",
    "                        config_shocks.append(s)\n",
    "                        config_surpluses.append(run_surplus)   \n",
    "                        config_safe_pops.append(i)\n",
    "                        \n",
    "                        if s == 0.0 and run_surplus < 0:\n",
    "                            raise ValueError(\"negative surplus at zero shock\")\n",
    "\n",
    "            df = pd.DataFrame({'sim_name': sim_name, 'lr': liq_ratio, 'v2_liq_debt': v2_liq_debt,# static config values\n",
    "                               'v3_liq_debt': v3_liq_debt, 'initial_surplus_pct': initial_surplus_pct, # static config values\n",
    "                               'safe_pop': config_safe_pops,\n",
    "                               'shock': config_shocks,  'surplus': config_surpluses})\n",
    "            \n",
    "            print(f\"{v2_liq_debt=}, {v3_liq_debt=}, {liq_ratio=}, {initial_surplus_pct=} complete\")\n",
    "            all_results.append(df)\n",
    "                \n",
    "    return pd.concat(all_results)\n"
   ]
  },
  {
   "cell_type": "markdown",
   "id": "806723d1-6cfb-49a5-bbf1-4c19f9efa384",
   "metadata": {},
   "source": [
    "# Sim #1: Mainnet SAFE Collateral Amounts and C-ratios\n",
    "Sim #1 uses static liquidity amounts set above to simulate drops with existing, mainnet SAFE population"
   ]
  },
  {
   "cell_type": "markdown",
   "id": "b93b9e33-5c97-4fa5-a34a-e2c4b153721f",
   "metadata": {
    "tags": []
   },
   "source": [
    "### Compare Mainnet Saviour Safes to Non-Saviour"
   ]
  },
  {
   "cell_type": "code",
   "execution_count": 14,
   "id": "96880722-9f2d-47e8-9560-fdad29206eaf",
   "metadata": {},
   "outputs": [
    {
     "name": "stdout",
     "output_type": "stream",
     "text": [
      "percent of mainnet collateral w/ saviours: 0.08\n"
     ]
    }
   ],
   "source": [
    "print(f\"percent of mainnet collateral w/ saviours: {saviour_safes['collateral'].sum() /orig_safes['collateral'].sum():.2f}\")"
   ]
  },
  {
   "cell_type": "code",
   "execution_count": 15,
   "id": "536c2a77-2033-43d4-ac1f-ccea5835fc94",
   "metadata": {},
   "outputs": [
    {
     "data": {
      "image/png": "[encoded data removed]",
      "text/plain": [
       "<Figure size 1200x800 with 1 Axes>"
      ]
     },
     "metadata": {
      "needs_background": "light"
     },
     "output_type": "display_data"
    }
   ],
   "source": [
    "saviour_safes = update_cratios(saviour_safes, ETH_USD, REDEMPTION_PRICE)\n",
    "non_saviour_safes = update_cratios(non_saviour_safes, ETH_USD, REDEMPTION_PRICE)\n",
    "\n",
    "orig_safes = update_cratios(orig_safes, ETH_USD, REDEMPTION_PRICE)\n",
    "bins = np.linspace(1.35, orig_safes['cratio'].max(), 50)\n",
    "\n",
    "saviour_safes['cratio'].hist(bins=bins, alpha=0.5, color='red', label='saviour')\n",
    "\n",
    "non_saviour_safes['cratio'].hist(bins=bins, color='blue', alpha=0.5, label='non-saviour')\n",
    "\n",
    "#orig_safes['cratio'].hist(bins=bins, color='green', alpha=0.2, label='all safes')\n",
    "\n",
    "plt.title('SAFE C-ratios', fontsize=18)\n",
    "plt.xlabel('C-ratio', fontsize=16)\n",
    "plt.ylabel('Number of SAFEs', fontsize=16)\n",
    "plt.legend()\n",
    "plt.grid(False)\n",
    "plt.show()"
   ]
  },
  {
   "cell_type": "markdown",
   "id": "a9e43bb7-941d-474d-954e-8471a429f401",
   "metadata": {
    "tags": []
   },
   "source": [
    "### Simulate ETH/USD shocks against mainnset SAFEs, w/ and w/o saviours"
   ]
  },
  {
   "cell_type": "markdown",
   "id": "8b4d5f86-ce64-4941-b93b-ecc47865a940",
   "metadata": {},
   "source": [
    "Saviours automatically withdraw Uniswap V2 liquidity when their SAFE is critical. Let's observe the affect this has on the system as a whole during shocks.\n",
    "If the primary source of protocol liquidity is Uniswap V2, saviours increase chance of bad debt creation."
   ]
  },
  {
   "cell_type": "code",
   "execution_count": 16,
   "id": "5f5aef59-acf8-44dc-af4c-fbb56b1288b3",
   "metadata": {},
   "outputs": [],
   "source": [
    "# set shocks for mainnet sim #1 only\n",
    "min_shock = 0.10\n",
    "max_shock = 0.60\n",
    "n_shocks = int((max_shock - min_shock) * 100) + 1 #31\n",
    "\n",
    "SIM1_SHOCKS = np.round(np.linspace(min_shock, max_shock, n_shocks), 4)"
   ]
  },
  {
   "cell_type": "code",
   "execution_count": 17,
   "id": "2559eb4a-088c-49b5-97f1-00d8a2bb5eb9",
   "metadata": {},
   "outputs": [
    {
     "name": "stderr",
     "output_type": "stream",
     "text": [
      "No handles with labels found to put in legend.\n"
     ]
    },
    {
     "data": {
      "image/png": "[encoded data removed]",
      "text/plain": [
       "<Figure size 1200x800 with 1 Axes>"
      ]
     },
     "metadata": {
      "needs_background": "light"
     },
     "output_type": "display_data"
    }
   ],
   "source": [
    "all_debt_usd = (non_saviour_safes['debt'].sum() + saviour_safes['debt'].sum()) * REDEMPTION_PRICE\n",
    "\n",
    "# with saviours\n",
    "# saviours automatically withdraw V2 LP when debt is critical\n",
    "surpluses = []\n",
    "for s in SIM1_SHOCKS:\n",
    "    eth_shock_price = ETH_USD * (1 - s)\n",
    "    shock_safes = update_cratios(non_saviour_safes, eth_shock_price, REDEMPTION_PRICE)\n",
    "    shock_saviour_safes = update_cratios(saviour_safes, eth_shock_price, REDEMPTION_PRICE)\n",
    "\n",
    "    surplus = run(shock_safes, shock_saviour_safes, liq_ratio=MAINNET_LIQ_RATIO,\n",
    "                  rai_v2_pool=rai_v2_pool, \n",
    "                  rai_v3_pool=rai_v3_pool,\n",
    "                  eth_shock_price=eth_shock_price, \n",
    "                  initial_surplus_pct=MAINNET_SURPLUS_PCT, verbose=False)\n",
    "    \n",
    "    surpluses.append(surplus)\n",
    "    \n",
    "#plt.plot(SIM1_SHOCKS, surpluses, alpha=0.5, label='considering saviours')\n",
    "plt.plot(SIM1_SHOCKS, surpluses, alpha=0.5, label='')\n",
    "\n",
    "\"\"\"\n",
    "# without saviours\n",
    "surpluses_wo = []\n",
    "for s in SIM1_SHOCKS:\n",
    "    eth_shock_price = ETH_USD * (1 - s)\n",
    "    shock_safes = update_cratios(non_saviour_safes, eth_shock_price, REDEMPTION_PRICE)\n",
    "    shock_saviour_safes = update_cratios(saviour_safes, eth_shock_price, REDEMPTION_PRICE)\n",
    "\n",
    "    surplus = run(shock_safes, [], liq_ratio=MAINNET_LIQ_RATIO,\n",
    "                  rai_v2_pool=rai_v2_pool, \n",
    "                  rai_v3_pool=rai_v3_pool,\n",
    "                  eth_shock_price=eth_shock_price, \n",
    "                  initial_surplus_pct=MAINNET_SURPLUS_PCT, verbose=False)\n",
    "    \n",
    "    surpluses_wo.append(surplus)\n",
    "    \n",
    "plt.plot(SIM1_SHOCKS, surpluses_wo, alpha=0.5, label='w/o saviours')\n",
    "\"\"\" \n",
    "plt.legend()\n",
    "plt.title('Surplus for ETH/USD shocks, given current Reflexer SAFE statuses and pools\\n', fontsize=14)\n",
    "plt.xlabel('ETH/USD Shock (0.5 = 50% drop)', fontsize=16)\n",
    "plt.ylabel('Surplus', fontsize=16)\n",
    "plt.grid(True)\n",
    "plt.show()\n"
   ]
  },
  {
   "cell_type": "markdown",
   "id": "d860b818-8f6e-4e53-9fcd-0c9c28ab3bbc",
   "metadata": {},
   "source": [
    "# Sim #2: Mainnet SAFE Collateral Amounts with Stochastic C-ratios"
   ]
  },
  {
   "cell_type": "markdown",
   "id": "fb2d359f-2265-417d-b93a-188536499a96",
   "metadata": {},
   "source": [
    "### Examine mainnet c-ratios"
   ]
  },
  {
   "cell_type": "code",
   "execution_count": 18,
   "id": "f213c109-3a7f-4323-93f6-22f896798a68",
   "metadata": {
    "tags": []
   },
   "outputs": [
    {
     "data": {
      "image/png": "[encoded data removed]",
      "text/plain": [
       "<Figure size 1200x800 with 1 Axes>"
      ]
     },
     "metadata": {
      "needs_background": "light"
     },
     "output_type": "display_data"
    }
   ],
   "source": [
    "non_saviour_safes = update_cratios(non_saviour_safes, ETH_USD, REDEMPTION_PRICE)\n",
    "non_saviour_safes['cratio'].hist(bins=100)\n",
    "plt.title('Mainnet non-saviour SAFE C-ratios', fontsize=18)\n",
    "plt.xlabel('C-ratio', fontsize=16)\n",
    "plt.ylabel('Number of SAFEs', fontsize=16)\n",
    "plt.grid(False)\n",
    "plt.show()"
   ]
  },
  {
   "cell_type": "markdown",
   "id": "d737beed-c640-41ae-8252-8e5097944785",
   "metadata": {},
   "source": [
    "### Fit many distributions to mainnnet c-ratios"
   ]
  },
  {
   "cell_type": "code",
   "execution_count": 19,
   "id": "abe9ba3b-3049-4043-8aaa-6cfdff8099a8",
   "metadata": {},
   "outputs": [
    {
     "data": {
      "text/html": [
       "<div>\n",
       "<style scoped>\n",
       "    .dataframe tbody tr th:only-of-type {\n",
       "        vertical-align: middle;\n",
       "    }\n",
       "\n",
       "    .dataframe tbody tr th {\n",
       "        vertical-align: top;\n",
       "    }\n",
       "\n",
       "    .dataframe thead th {\n",
       "        text-align: right;\n",
       "    }\n",
       "</style>\n",
       "<table border=\"1\" class=\"dataframe\">\n",
       "  <thead>\n",
       "    <tr style=\"text-align: right;\">\n",
       "      <th></th>\n",
       "      <th>sumsquare_error</th>\n",
       "      <th>aic</th>\n",
       "      <th>bic</th>\n",
       "      <th>kl_div</th>\n",
       "    </tr>\n",
       "  </thead>\n",
       "  <tbody>\n",
       "    <tr>\n",
       "      <th>skewnorm</th>\n",
       "      <td>2.194509</td>\n",
       "      <td>667.27986</td>\n",
       "      <td>-1224.746065</td>\n",
       "      <td>inf</td>\n",
       "    </tr>\n",
       "  </tbody>\n",
       "</table>\n",
       "</div>"
      ],
      "text/plain": [
       "          sumsquare_error        aic          bic  kl_div\n",
       "skewnorm         2.194509  667.27986 -1224.746065     inf"
      ]
     },
     "execution_count": 19,
     "metadata": {},
     "output_type": "execute_result"
    },
    {
     "data": {
      "image/png": "[encoded data removed]",
      "text/plain": [
       "<Figure size 1200x800 with 1 Axes>"
      ]
     },
     "metadata": {
      "needs_background": "light"
     },
     "output_type": "display_data"
    }
   ],
   "source": [
    "fitter_cratio = Fitter(non_saviour_safes['cratio'].values,\n",
    "                       distributions=['skewnorm'])         \n",
    "fitter_cratio.fit()\n",
    "fitter_cratio.summary()"
   ]
  },
  {
   "cell_type": "markdown",
   "id": "d1c0a401-b34e-4271-b770-037899cc9c5e",
   "metadata": {},
   "source": [
    "### Pick the best distribution and generate some c-ratios"
   ]
  },
  {
   "cell_type": "code",
   "execution_count": 20,
   "id": "871824eb-0e77-4978-9677-73ff30cf8a76",
   "metadata": {},
   "outputs": [
    {
     "name": "stdout",
     "output_type": "stream",
     "text": [
      "best_function_name='skewnorm', best_cratio_params=[44.541613730261005, 1.573976952745491, 1.6414196745691343]\n"
     ]
    }
   ],
   "source": [
    "best_cratio = fitter_cratio.get_best(method = 'sumsquare_error')\n",
    "best_cratio_params = list(list(best_cratio.values())[0].values())\n",
    "best_cratio_params\n",
    "best_function_name = list(best_cratio.keys())[0]\n",
    "print(f\"{best_function_name=}, {best_cratio_params=}\")\n",
    "ss_best_cratio_function = getattr(ss, best_function_name)"
   ]
  },
  {
   "cell_type": "code",
   "execution_count": 21,
   "id": "2fe166f5-6abc-467f-a618-56e19d47423e",
   "metadata": {},
   "outputs": [
    {
     "data": {
      "text/plain": [
       "0    3.018156\n",
       "1    4.627560\n",
       "2    2.660481\n",
       "Name: cratio, dtype: float64"
      ]
     },
     "execution_count": 21,
     "metadata": {},
     "output_type": "execute_result"
    }
   ],
   "source": [
    "non_saviour_safes['cratio'].head(3)"
   ]
  },
  {
   "cell_type": "code",
   "execution_count": 22,
   "id": "fcd62c3f-ad0f-4469-8f38-a6043fe8ca6e",
   "metadata": {},
   "outputs": [
    {
     "data": {
      "image/png": "[encoded data removed]",
      "text/plain": [
       "<Figure size 1200x800 with 1 Axes>"
      ]
     },
     "metadata": {
      "needs_background": "light"
     },
     "output_type": "display_data"
    }
   ],
   "source": [
    "cratios_r = ss_best_cratio_function.rvs(*best_cratio_params,  size=len(non_saviour_safes)*2, random_state=42)\n",
    "cratios_r = cratios_r[cratios_r > MAINNET_LIQ_RATIO]\n",
    "\n",
    "df = pd.DataFrame(cratios_r, columns=['cratio'])\n",
    "df = df.head(len(non_saviour_safes))\n",
    "\n",
    "df['cratio'].hist(bins=100, alpha=0.5, color='red', label='generated')\n",
    "\n",
    "non_saviour_safes['cratio'].hist(bins=100, color='blue', alpha=0.5, label='original')\n",
    "\n",
    "plt.title('Non-saviour SAFE C-ratios', fontsize=18)\n",
    "plt.xlabel('C-ratio', fontsize=16)\n",
    "plt.ylabel('Number of SAFEs', fontsize=16)\n",
    "plt.legend()\n",
    "plt.grid(False)\n",
    "plt.show()"
   ]
  },
  {
   "cell_type": "markdown",
   "id": "e5f4f28f-447b-46f0-9a2b-ddcce8b11854",
   "metadata": {},
   "source": [
    "### Prepare Sim #2 SAFEs"
   ]
  },
  {
   "cell_type": "code",
   "execution_count": 23,
   "id": "08fbcdbc-c780-4a9a-92b2-a2a6d65b4e66",
   "metadata": {},
   "outputs": [
    {
     "name": "stdout",
     "output_type": "stream",
     "text": [
      "filling extra_debt=9276150.719052404\n",
      "filling extra_debt=13107661.802146807\n",
      "filling extra_debt=13363947.263390625\n",
      "filling extra_debt=11921559.129221182\n",
      "filling extra_debt=9267591.480230216\n",
      "filling extra_debt=9825015.36095364\n",
      "filling extra_debt=8938952.48606579\n",
      "filling extra_debt=12803145.693946047\n",
      "filling extra_debt=11765648.151392847\n",
      "filling extra_debt=10425010.189633299\n",
      "filling extra_debt=11134410.012517814\n",
      "filling extra_debt=10254640.417441841\n",
      "filling extra_debt=14716483.372164797\n",
      "filling extra_debt=12117009.101282092\n",
      "filling extra_debt=13553994.76687688\n",
      "filling extra_debt=9453675.100901265\n",
      "filling extra_debt=12130296.249918893\n",
      "filling extra_debt=11104326.41541602\n",
      "filling extra_debt=12065745.686638514\n",
      "filling extra_debt=12702714.772712737\n",
      "filling extra_debt=9161486.676566724\n",
      "filling extra_debt=13603442.736939495\n",
      "filling extra_debt=11715866.18062925\n",
      "filling extra_debt=9525728.221922122\n",
      "filling extra_debt=11021934.473961625\n",
      "filling extra_debt=13800823.992968533\n",
      "filling extra_debt=11985439.70642221\n",
      "filling extra_debt=10933642.65932725\n",
      "filling extra_debt=12775634.026069248\n",
      "filling extra_debt=14691471.784832409\n",
      "filling extra_debt=14264247.849536214\n",
      "filling extra_debt=10662261.805416584\n",
      "filling extra_debt=12461079.819717668\n",
      "filling extra_debt=12628642.824675297\n",
      "filling extra_debt=13358414.869469501\n",
      "filling extra_debt=13194332.84546196\n",
      "filling extra_debt=11880679.97849141\n",
      "filling extra_debt=12368877.491196238\n",
      "filling extra_debt=10392070.761741038\n",
      "filling extra_debt=13827062.24226714\n",
      "filling extra_debt=12877454.047940295\n",
      "filling extra_debt=14417586.330730865\n",
      "filling extra_debt=11372097.581412192\n",
      "filling extra_debt=12681223.615785595\n",
      "filling extra_debt=9956522.253741752\n",
      "filling extra_debt=12699216.67215607\n",
      "filling extra_debt=12022024.208793696\n",
      "filling extra_debt=13826708.011800747\n",
      "filling extra_debt=12185800.361572254\n",
      "filling extra_debt=12080634.198272478\n",
      "filling extra_debt=11510933.925934814\n",
      "filling extra_debt=12059007.560915442\n",
      "filling extra_debt=10089286.297618635\n",
      "filling extra_debt=10519608.179353803\n",
      "filling extra_debt=9750815.1001014\n",
      "filling extra_debt=12305857.946157876\n",
      "filling extra_debt=11955048.769657802\n",
      "filling extra_debt=9722852.923795484\n",
      "filling extra_debt=13718382.03592817\n",
      "filling extra_debt=12343555.601912102\n",
      "filling extra_debt=11076807.352415446\n",
      "filling extra_debt=8388318.844305187\n",
      "filling extra_debt=11072705.543822367\n",
      "filling extra_debt=11579943.0693725\n",
      "filling extra_debt=9868736.202435967\n",
      "filling extra_debt=12751018.57257298\n",
      "filling extra_debt=11720395.831995022\n",
      "filling extra_debt=9678423.593709242\n",
      "filling extra_debt=10969338.204785112\n",
      "filling extra_debt=12139613.269180255\n",
      "filling extra_debt=9410986.443922717\n",
      "filling extra_debt=11777294.313270498\n",
      "filling extra_debt=11269323.536419548\n",
      "filling extra_debt=13479808.981220802\n",
      "filling extra_debt=11416886.537300851\n",
      "filling extra_debt=10763420.831415981\n",
      "filling extra_debt=13210864.914676629\n",
      "filling extra_debt=12908086.373608608\n",
      "filling extra_debt=13258588.32541348\n",
      "filling extra_debt=11171722.506029565\n",
      "filling extra_debt=12210994.122518472\n",
      "filling extra_debt=14030182.736944692\n",
      "filling extra_debt=11059329.859206203\n",
      "filling extra_debt=14657768.145945348\n",
      "filling extra_debt=11113564.154446851\n",
      "filling extra_debt=13582942.651476743\n",
      "filling extra_debt=12823446.068637734\n",
      "filling extra_debt=13925123.942641156\n",
      "filling extra_debt=13658325.602548296\n",
      "filling extra_debt=12819296.947118167\n",
      "filling extra_debt=13472030.158510093\n",
      "filling extra_debt=12018091.919682544\n",
      "filling extra_debt=12822062.39874581\n",
      "filling extra_debt=12107805.148727674\n",
      "filling extra_debt=12646524.52439709\n",
      "filling extra_debt=11773566.283719514\n",
      "filling extra_debt=14606403.198834721\n",
      "filling extra_debt=10559647.70937752\n",
      "filling extra_debt=12534859.26048563\n",
      "filling extra_debt=10061612.60798464\n",
      "filling extra_debt=11320204.893324941\n",
      "filling extra_debt=13604934.984508073\n",
      "filling extra_debt=11024540.036623612\n",
      "filling extra_debt=13210142.615440879\n",
      "filling extra_debt=12377268.095292792\n",
      "filling extra_debt=12115383.84094521\n",
      "filling extra_debt=10885260.292640515\n",
      "filling extra_debt=11161290.007435977\n",
      "filling extra_debt=10713011.428895596\n",
      "filling extra_debt=12514088.138818469\n",
      "filling extra_debt=13470398.529194051\n",
      "filling extra_debt=13224755.011022178\n",
      "filling extra_debt=13143157.171414755\n",
      "filling extra_debt=11982753.209852269\n",
      "filling extra_debt=12109734.618735723\n",
      "filling extra_debt=10858211.933874346\n",
      "filling extra_debt=11472239.887356974\n",
      "filling extra_debt=13393465.990169097\n",
      "filling extra_debt=10172545.075492624\n",
      "filling extra_debt=10388961.962742802\n",
      "filling extra_debt=12176294.70819366\n",
      "filling extra_debt=11032135.732472438\n",
      "filling extra_debt=13318699.812345823\n",
      "filling extra_debt=9985256.09348515\n",
      "filling extra_debt=13154845.252089052\n",
      "filling extra_debt=14083082.943425342\n",
      "filling extra_debt=13049827.31335975\n",
      "filling extra_debt=12055256.39901411\n",
      "filling extra_debt=11759764.08248888\n",
      "filling extra_debt=11685775.12787454\n",
      "filling extra_debt=12178773.440770445\n",
      "filling extra_debt=12186328.180032985\n",
      "filling extra_debt=14278898.34398287\n",
      "filling extra_debt=11164765.333179068\n",
      "filling extra_debt=13430564.90690063\n",
      "filling extra_debt=11086553.186567817\n",
      "filling extra_debt=9636672.492016114\n",
      "filling extra_debt=11529383.853826448\n",
      "filling extra_debt=9584978.33333623\n",
      "filling extra_debt=11264830.055099301\n",
      "filling extra_debt=13581754.143703189\n",
      "filling extra_debt=13035165.916158048\n",
      "filling extra_debt=10628541.450022664\n",
      "filling extra_debt=11630242.137085076\n",
      "filling extra_debt=11731553.73498116\n",
      "filling extra_debt=10495692.306947753\n",
      "filling extra_debt=12916686.597472683\n",
      "filling extra_debt=13563816.485821856\n",
      "filling extra_debt=13211561.255866058\n",
      "filling extra_debt=11362756.990030374\n",
      "filling extra_debt=14507938.511704449\n",
      "filling extra_debt=11348936.60310933\n",
      "filling extra_debt=13403657.43185002\n",
      "filling extra_debt=12834811.747522907\n",
      "filling extra_debt=12227356.467578694\n",
      "filling extra_debt=13773875.42414539\n",
      "filling extra_debt=9055263.507587835\n",
      "filling extra_debt=11905982.79300363\n",
      "filling extra_debt=10209249.2715788\n",
      "filling extra_debt=11506759.615751099\n",
      "filling extra_debt=12237947.611807503\n",
      "filling extra_debt=11045014.61239329\n",
      "filling extra_debt=14835848.03350692\n",
      "filling extra_debt=11829815.337416673\n",
      "filling extra_debt=11241913.847726483\n",
      "filling extra_debt=10186214.657762032\n",
      "filling extra_debt=13965360.145606624\n",
      "filling extra_debt=11033277.758199185\n",
      "filling extra_debt=9062019.38629087\n",
      "filling extra_debt=11355372.57057168\n",
      "filling extra_debt=9905072.89098334\n",
      "filling extra_debt=13616742.993385587\n",
      "filling extra_debt=8437130.053944428\n",
      "filling extra_debt=10994983.404980768\n",
      "filling extra_debt=10858331.535696607\n",
      "filling extra_debt=14024515.933437306\n",
      "filling extra_debt=11703435.476270214\n",
      "filling extra_debt=12788680.191556284\n",
      "filling extra_debt=13440473.622115875\n",
      "filling extra_debt=10849744.492447264\n",
      "filling extra_debt=10669670.124444935\n",
      "filling extra_debt=12920344.933392726\n",
      "filling extra_debt=13992849.840193948\n",
      "filling extra_debt=12951286.172721125\n",
      "filling extra_debt=12481903.032720149\n",
      "filling extra_debt=14025128.81812473\n",
      "filling extra_debt=9323890.906628765\n",
      "filling extra_debt=12203359.903263506\n",
      "filling extra_debt=12111585.415423756\n",
      "filling extra_debt=9409758.99050669\n",
      "filling extra_debt=10397014.3475709\n",
      "filling extra_debt=10569482.060107253\n",
      "filling extra_debt=9911256.854308482\n",
      "filling extra_debt=13338669.337636154\n",
      "filling extra_debt=10156609.647531483\n",
      "filling extra_debt=9579451.042910378\n",
      "filling extra_debt=8933692.643713396\n",
      "filling extra_debt=10118972.333759915\n",
      "filling extra_debt=11901049.197263055\n",
      "filling extra_debt=11486923.266002446\n"
     ]
    }
   ],
   "source": [
    "# Generate twice as many cratios to ensure we have enough greater than liq ratio\n",
    "\n",
    "all_cratios = [ss_best_cratio_function.rvs(*best_cratio_params, size=len(non_saviour_safes)*2, random_state=SAFE_POP_SEEDS[i])\n",
    "               for i in range(N_SAFE_POPS)]\n",
    "\n",
    "cratio_rv = ss_best_cratio_function(*best_cratio_params)\n",
    "\n",
    "all_tmp_safes = [pd.DataFrame(cr, columns=['cratio']) for cr in all_cratios]\n",
    "\n",
    "final_sim2_safes = []\n",
    "for tmp_safes in all_tmp_safes:\n",
    "    # remove generates c-ratios that are less than liq ratio\n",
    "    # and ensure there are still enough\n",
    "    tmp_safes = tmp_safes[tmp_safes['cratio'] > MAINNET_LIQ_RATIO]        \n",
    "    tmp_safes = tmp_safes.head(len(non_saviour_safes))\n",
    "    assert len(tmp_safes) == len(non_saviour_safes)\n",
    "\n",
    "    tmp_safes['collateral'] = non_saviour_safes['collateral']\n",
    "    tmp_safes['debt'] = tmp_safes['collateral'] * ETH_USD / REDEMPTION_PRICE / tmp_safes['cratio']\n",
    "\n",
    "    # Consider debt ceiling, adding more possible debt\n",
    "    extra_debt = DEBT_CEILING  - tmp_safes['debt'].sum()\n",
    "    print(f\"filling {extra_debt=}\")\n",
    "    added_debt = 0\n",
    "    seed = 0\n",
    "    while added_debt < extra_debt and extra_debt > 0:\n",
    "        seed += 1\n",
    "        new_cr = cratio_rv.rvs(size=1, random_state=seed)[0]\n",
    "        while new_cr < MAINNET_LIQ_RATIO: \n",
    "            seed += 1\n",
    "            new_cr = cratio_rv.rvs(size=1, random_state=seed)[0]\n",
    "            \n",
    "        new_coll = non_saviour_safes['collateral'].sample().iloc[0]\n",
    "\n",
    "        new_debt = min(new_coll * ETH_USD / REDEMPTION_PRICE / new_cr, extra_debt - added_debt)\n",
    "        added_debt += new_debt\n",
    "        tmp_safes = tmp_safes.append({'cratio': new_cr, 'collateral': new_coll, 'debt': new_debt}, ignore_index=True)\n",
    "        \n",
    "    final_sim2_safes.append(tmp_safes)        \n",
    "    assert added_debt == extra_debt or extra_debt < 0"
   ]
  },
  {
   "cell_type": "markdown",
   "id": "635ac53f-7f8f-4aa1-bb6f-cae5be6356bf",
   "metadata": {},
   "source": [
    "# Sim #3: Stochastic SAFE collateral amounts and stochastic c-ratios"
   ]
  },
  {
   "cell_type": "markdown",
   "id": "511d686f-1d58-4a52-b889-907990c94cee",
   "metadata": {},
   "source": [
    "### Fit many distributions to mainnnet collateral amounts"
   ]
  },
  {
   "cell_type": "code",
   "execution_count": 24,
   "id": "74128a7f-e414-46bf-95d5-f685b9503880",
   "metadata": {},
   "outputs": [
    {
     "data": {
      "text/html": [
       "<div>\n",
       "<style scoped>\n",
       "    .dataframe tbody tr th:only-of-type {\n",
       "        vertical-align: middle;\n",
       "    }\n",
       "\n",
       "    .dataframe tbody tr th {\n",
       "        vertical-align: top;\n",
       "    }\n",
       "\n",
       "    .dataframe thead th {\n",
       "        text-align: right;\n",
       "    }\n",
       "</style>\n",
       "<table border=\"1\" class=\"dataframe\">\n",
       "  <thead>\n",
       "    <tr style=\"text-align: right;\">\n",
       "      <th></th>\n",
       "      <th>sumsquare_error</th>\n",
       "      <th>aic</th>\n",
       "      <th>bic</th>\n",
       "      <th>kl_div</th>\n",
       "    </tr>\n",
       "  </thead>\n",
       "  <tbody>\n",
       "    <tr>\n",
       "      <th>skewcauchy</th>\n",
       "      <td>1.424866</td>\n",
       "      <td>585.273365</td>\n",
       "      <td>-1337.034912</td>\n",
       "      <td>inf</td>\n",
       "    </tr>\n",
       "  </tbody>\n",
       "</table>\n",
       "</div>"
      ],
      "text/plain": [
       "            sumsquare_error         aic          bic  kl_div\n",
       "skewcauchy         1.424866  585.273365 -1337.034912     inf"
      ]
     },
     "execution_count": 24,
     "metadata": {},
     "output_type": "execute_result"
    },
    {
     "data": {
      "image/png": "[encoded data removed]",
      "text/plain": [
       "<Figure size 1200x800 with 1 Axes>"
      ]
     },
     "metadata": {
      "needs_background": "light"
     },
     "output_type": "display_data"
    }
   ],
   "source": [
    "fitter_coll = Fitter(np.log(non_saviour_safes['collateral'].values),\n",
    "                     distributions=['skewcauchy']) \n",
    "                     \n",
    "fitter_coll.fit()\n",
    "fitter_coll.summary()"
   ]
  },
  {
   "cell_type": "markdown",
   "id": "89404951-f281-4169-ac0c-b617c174ba95",
   "metadata": {},
   "source": [
    "### Pick the best distribution and generate some collateral amounts"
   ]
  },
  {
   "cell_type": "code",
   "execution_count": 25,
   "id": "14d50bfa-f6dc-4dd7-af14-49eebd5c3d65",
   "metadata": {},
   "outputs": [
    {
     "name": "stdout",
     "output_type": "stream",
     "text": [
      "best_function_name='skewcauchy', best_coll_params=[0.9141118712160622, 1.1048953747568269, 0.8042881913025537]\n"
     ]
    }
   ],
   "source": [
    "best_coll = fitter_coll.get_best(method = 'sumsquare_error')\n",
    "best_coll_params = list(list(best_coll.values())[0].values())\n",
    "best_coll_params\n",
    "best_function_name = list(best_coll.keys())[0]\n",
    "print(f\"{best_function_name=}, {best_coll_params=}\")\n",
    "ss_best_coll_function = getattr(ss, best_function_name)"
   ]
  },
  {
   "cell_type": "code",
   "execution_count": 26,
   "id": "a61e7219-2562-4791-8d20-4f07e47d8d00",
   "metadata": {},
   "outputs": [
    {
     "name": "stderr",
     "output_type": "stream",
     "text": [
      "/var/folders/z_/tzvx3mfs7rsbb8dxt0rd157w0000gn/T/ipykernel_72948/1406262689.py:7: UserWarning: Boolean Series key will be reindexed to match DataFrame index.\n",
      "  df = df[(df['collateral'] > 0) & (df['collateral'] < non_saviour_safes['collateral'].max()) & (tmp_safes['cratio'] > MAINNET_LIQ_RATIO)]\n"
     ]
    },
    {
     "data": {
      "image/png": "[encoded data removed]",
      "text/plain": [
       "<Figure size 1200x800 with 1 Axes>"
      ]
     },
     "metadata": {
      "needs_background": "light"
     },
     "output_type": "display_data"
    }
   ],
   "source": [
    "colls_r = ss_best_coll_function.rvs(*best_coll_params, size=len(non_saviour_safes)*2, random_state=42)\n",
    "\n",
    "colls_r = np.exp(colls_r)\n",
    "\n",
    "# Collateral\n",
    "df = pd.DataFrame(colls_r, columns=['collateral'])\n",
    "df = df[(df['collateral'] > 0) & (df['collateral'] < non_saviour_safes['collateral'].max()) & (tmp_safes['cratio'] > MAINNET_LIQ_RATIO)]\n",
    "df = df.head(len(non_saviour_safes))\n",
    "\n",
    "df['collateral'].hist(bins=100, alpha=0.5, color='red', label='generated')\n",
    "\n",
    "non_saviour_safes['collateral'].hist(bins=100, color='blue', alpha=0.5, label='original')\n",
    "#plt.xlim([0, 1000])\n",
    "plt.title('Sim #3 SAFE Collateral', fontsize=18)\n",
    "plt.xlabel('Collateral', fontsize=16)\n",
    "plt.ylabel('Number of SAFEs', fontsize=16)\n",
    "plt.legend()\n",
    "plt.grid(False)\n",
    "plt.show()"
   ]
  },
  {
   "cell_type": "markdown",
   "id": "9cb58a01-d930-4b36-963e-f911538d3bc3",
   "metadata": {},
   "source": [
    "### Prepare Sim #3 SAFEs"
   ]
  },
  {
   "cell_type": "code",
   "execution_count": 27,
   "id": "67705fa4-4c6f-4cb6-b40b-7253e163df5f",
   "metadata": {},
   "outputs": [
    {
     "name": "stdout",
     "output_type": "stream",
     "text": [
      "filling extra_debt=13950084.823842049\n",
      "filling extra_debt=7491868.773012906\n",
      "filling extra_debt=-127641.77949341759\n",
      "filling extra_debt=2851203.228707418\n",
      "filling extra_debt=5978092.189258002\n",
      "filling extra_debt=11200460.218474265\n",
      "filling extra_debt=5169625.5315044\n",
      "filling extra_debt=16287025.152764395\n",
      "filling extra_debt=7412397.608080883\n",
      "filling extra_debt=5821706.769483779\n",
      "filling extra_debt=2073192.5257341452\n",
      "filling extra_debt=184816.4780564569\n",
      "filling extra_debt=6716302.167452034\n",
      "filling extra_debt=-1387102.5341502726\n",
      "filling extra_debt=1090356.4755549468\n",
      "filling extra_debt=9420305.653086867\n",
      "filling extra_debt=8401317.77936012\n",
      "filling extra_debt=13226944.661047421\n",
      "filling extra_debt=4677846.442865346\n",
      "filling extra_debt=6631813.735513169\n",
      "filling extra_debt=-9169924.922173928\n",
      "filling extra_debt=-4192685.0006163567\n",
      "filling extra_debt=8288071.447631758\n",
      "filling extra_debt=4693467.525640879\n",
      "filling extra_debt=2683351.342105981\n",
      "filling extra_debt=13910601.45419735\n",
      "filling extra_debt=13604338.355456289\n",
      "filling extra_debt=2109106.4087495767\n",
      "filling extra_debt=5674121.563825261\n",
      "filling extra_debt=1721364.5176641382\n",
      "filling extra_debt=-378272.15434287116\n",
      "filling extra_debt=9597583.808778618\n",
      "filling extra_debt=7139155.248290252\n",
      "filling extra_debt=12469841.176452935\n",
      "filling extra_debt=6992962.173783191\n",
      "filling extra_debt=1323198.5776286982\n",
      "filling extra_debt=175634.60810602084\n",
      "filling extra_debt=16535255.339862067\n",
      "filling extra_debt=5534092.257310737\n",
      "filling extra_debt=12564067.252302317\n",
      "filling extra_debt=13284063.287151229\n",
      "filling extra_debt=11073329.553077728\n",
      "filling extra_debt=12883282.639750505\n",
      "filling extra_debt=-21234542.873986993\n",
      "filling extra_debt=4789706.711475223\n",
      "filling extra_debt=1481680.6255890094\n",
      "filling extra_debt=8346110.880541217\n",
      "filling extra_debt=10011122.63626017\n",
      "filling extra_debt=11978948.676657628\n",
      "filling extra_debt=9309102.937086906\n",
      "filling extra_debt=7657223.939720552\n",
      "filling extra_debt=11231527.527429942\n",
      "filling extra_debt=4343477.722616196\n",
      "filling extra_debt=-2564370.0898646116\n",
      "filling extra_debt=7878948.246381212\n",
      "filling extra_debt=8380863.26470777\n",
      "filling extra_debt=5238307.204994004\n",
      "filling extra_debt=-10614789.773783673\n",
      "filling extra_debt=11754556.622200515\n",
      "filling extra_debt=-9285761.934521202\n",
      "filling extra_debt=9521801.061529536\n",
      "filling extra_debt=7181787.066296559\n",
      "filling extra_debt=1105100.6111914478\n",
      "filling extra_debt=-6498466.756437454\n",
      "filling extra_debt=6233227.167544343\n",
      "filling extra_debt=2766969.011376012\n",
      "filling extra_debt=16698983.258444961\n",
      "filling extra_debt=14935211.23652008\n",
      "filling extra_debt=-5798024.560460392\n",
      "filling extra_debt=5803224.509173464\n",
      "filling extra_debt=10832721.695931945\n",
      "filling extra_debt=9196657.183750171\n",
      "filling extra_debt=-9360373.35203993\n",
      "filling extra_debt=2764825.659023598\n",
      "filling extra_debt=2581513.4936051965\n",
      "filling extra_debt=16176962.094930232\n",
      "filling extra_debt=8008923.366858169\n",
      "filling extra_debt=9746665.10141733\n",
      "filling extra_debt=11826443.660357537\n",
      "filling extra_debt=5763801.562713351\n",
      "filling extra_debt=-591314.0647742823\n",
      "filling extra_debt=14409711.934618752\n",
      "filling extra_debt=1537587.818274174\n",
      "filling extra_debt=3146872.983031776\n",
      "filling extra_debt=3413049.118040301\n",
      "filling extra_debt=-3853670.0762454607\n",
      "filling extra_debt=19946307.101645272\n",
      "filling extra_debt=6764462.922884438\n",
      "filling extra_debt=7612013.624723557\n",
      "filling extra_debt=-8362437.132109474\n",
      "filling extra_debt=-5079869.200689439\n",
      "filling extra_debt=9179454.850189518\n",
      "filling extra_debt=17476117.38367483\n",
      "filling extra_debt=4012687.590970438\n",
      "filling extra_debt=-1063146.7045013905\n",
      "filling extra_debt=6648927.6325410865\n",
      "filling extra_debt=8445130.678121049\n",
      "filling extra_debt=1175244.978133615\n",
      "filling extra_debt=8618814.885356396\n",
      "filling extra_debt=-6126568.410727475\n",
      "filling extra_debt=10012792.129597362\n",
      "filling extra_debt=-8989348.389440332\n",
      "filling extra_debt=3691526.466422379\n",
      "filling extra_debt=-8709956.031993922\n",
      "filling extra_debt=1276696.3739301823\n",
      "filling extra_debt=-6543392.418139119\n",
      "filling extra_debt=9840801.092922341\n",
      "filling extra_debt=2906749.091815859\n",
      "filling extra_debt=7777416.358069275\n",
      "filling extra_debt=-900653.8402550481\n",
      "filling extra_debt=-1501755.7016347796\n",
      "filling extra_debt=-2500451.9965625443\n",
      "filling extra_debt=2382581.6560751908\n",
      "filling extra_debt=-2256403.844479434\n",
      "filling extra_debt=9612667.701531049\n",
      "filling extra_debt=6534540.771463033\n",
      "filling extra_debt=-855420.2463275343\n",
      "filling extra_debt=11075086.65083674\n",
      "filling extra_debt=2169179.352908209\n",
      "filling extra_debt=4961982.216044102\n",
      "filling extra_debt=-11891043.86475565\n",
      "filling extra_debt=-883245.8176652938\n",
      "filling extra_debt=2490415.6418593563\n",
      "filling extra_debt=-9225949.537562076\n",
      "filling extra_debt=5174439.417148281\n",
      "filling extra_debt=9974253.368695129\n",
      "filling extra_debt=393151.5223899074\n",
      "filling extra_debt=526491.8265835494\n",
      "filling extra_debt=13429476.067724694\n",
      "filling extra_debt=10742381.415978342\n",
      "filling extra_debt=5528157.489723083\n",
      "filling extra_debt=4159547.549761977\n",
      "filling extra_debt=11320024.640600737\n",
      "filling extra_debt=9167737.341768522\n",
      "filling extra_debt=18909021.71885994\n",
      "filling extra_debt=-2749057.0212155133\n",
      "filling extra_debt=6008160.00298512\n",
      "filling extra_debt=10584768.839373637\n",
      "filling extra_debt=-2653074.3950360194\n",
      "filling extra_debt=-1752118.973959852\n",
      "filling extra_debt=382535.7131355405\n",
      "filling extra_debt=14256097.502232365\n",
      "filling extra_debt=9449940.243096106\n",
      "filling extra_debt=-1171847.0644538738\n",
      "filling extra_debt=10653578.10298973\n",
      "filling extra_debt=13577811.564176377\n",
      "filling extra_debt=182027.40064473823\n",
      "filling extra_debt=-216895.7366620861\n",
      "filling extra_debt=16948225.90636931\n",
      "filling extra_debt=9094999.548710223\n",
      "filling extra_debt=3652119.43148439\n",
      "filling extra_debt=-732467.9920489416\n",
      "filling extra_debt=6069971.625106636\n",
      "filling extra_debt=-5580184.157110143\n",
      "filling extra_debt=9056493.856102645\n",
      "filling extra_debt=487291.47498536855\n",
      "filling extra_debt=19095059.617215272\n",
      "filling extra_debt=-5076028.316611055\n",
      "filling extra_debt=1085110.863057129\n",
      "filling extra_debt=3444912.1145675182\n",
      "filling extra_debt=9556988.343752954\n",
      "filling extra_debt=12676853.430891486\n",
      "filling extra_debt=9094183.691228613\n",
      "filling extra_debt=-1135472.7685305774\n",
      "filling extra_debt=7065871.408262644\n",
      "filling extra_debt=6748822.529583681\n",
      "filling extra_debt=6967669.377700608\n",
      "filling extra_debt=3176846.6331433617\n",
      "filling extra_debt=-2188871.9564480707\n",
      "filling extra_debt=11173426.912172582\n",
      "filling extra_debt=-1287780.4765967838\n",
      "filling extra_debt=13349070.893604934\n",
      "filling extra_debt=10813704.66304385\n",
      "filling extra_debt=-1718271.5918717831\n",
      "filling extra_debt=14739968.785705421\n",
      "filling extra_debt=12891417.923741248\n",
      "filling extra_debt=8626261.14877155\n",
      "filling extra_debt=5945344.923792366\n",
      "filling extra_debt=14209317.194546286\n",
      "filling extra_debt=3873965.958807867\n",
      "filling extra_debt=1861400.2196203321\n",
      "filling extra_debt=15113567.665475624\n",
      "filling extra_debt=2411319.715832386\n",
      "filling extra_debt=9876935.716236483\n",
      "filling extra_debt=-144520.1741324775\n",
      "filling extra_debt=6620176.148650896\n",
      "filling extra_debt=13635437.414421793\n",
      "filling extra_debt=155191.93415943906\n",
      "filling extra_debt=1424100.4371358082\n",
      "filling extra_debt=2988282.4840301834\n",
      "filling extra_debt=17962416.875162896\n",
      "filling extra_debt=8274858.018967122\n",
      "filling extra_debt=4357628.132812802\n",
      "filling extra_debt=-5142155.035215717\n",
      "filling extra_debt=1496214.4494878799\n",
      "filling extra_debt=-12851031.113016862\n",
      "filling extra_debt=-1958635.5508546196\n",
      "filling extra_debt=9756533.49137466\n",
      "filling extra_debt=10615388.117819719\n",
      "filling extra_debt=2665090.565022547\n"
     ]
    }
   ],
   "source": [
    "all_cratios = [ss_best_cratio_function.rvs(*best_cratio_params, size=len(non_saviour_safes)*2, random_state=SAFE_POP_SEEDS[i])\n",
    "               for i in range(N_SAFE_POPS)]\n",
    "\n",
    "all_collaterals = [np.exp(ss_best_coll_function.rvs(*best_coll_params, \n",
    "                                            size=len(non_saviour_safes)*2, random_state=SAFE_POP_SEEDS[i]))\n",
    "                   for i in range(N_SAFE_POPS)]\n",
    "\n",
    "cratio_rv = ss_best_cratio_function(*best_cratio_params)\n",
    "coll_rv = ss_best_coll_function(*best_coll_params)\n",
    "\n",
    "all_tmp_safes = [pd.DataFrame({'collateral': coll, 'cratio': cr})  for coll, cr in zip(all_collaterals, all_cratios)]\n",
    "\n",
    "# bound stochasticly generated collaterals\n",
    "max_collateral = non_saviour_safes['collateral'].max()\n",
    "final_sim3_safes = []\n",
    "seed = 0\n",
    "for tmp_safes in all_tmp_safes:\n",
    "    tmp_safes = tmp_safes[(tmp_safes['collateral'] > 0) & (tmp_safes['collateral'] < max_collateral) & (tmp_safes['cratio'] > MAINNET_LIQ_RATIO)]\n",
    "    tmp_safes = tmp_safes.head(len(non_saviour_safes))\n",
    "    assert len(tmp_safes) == len(non_saviour_safes)\n",
    "    tmp_safes['debt'] = tmp_safes['collateral'] * ETH_USD / REDEMPTION_PRICE / tmp_safes['cratio']\n",
    "    \n",
    "    # calculate and fill remaining debt\n",
    "    extra_debt = DEBT_CEILING  - tmp_safes['debt'].sum()\n",
    "    added_debt = 0\n",
    "    print(f\"filling {extra_debt=}\")\n",
    "    while added_debt < extra_debt and extra_debt > 0:\n",
    "        seed += 1\n",
    "        # Sample c-ratios and collateral amounts for valid values\n",
    "        new_cr = cratio_rv.rvs(size=1, random_state=seed)[0]\n",
    "        while new_cr < MAINNET_LIQ_RATIO: \n",
    "            seed += 1\n",
    "            new_cr = cratio_rv.rvs(size=1, random_state=seed)[0]\n",
    "            \n",
    "        new_coll = np.exp(coll_rv.rvs(size=1, random_state=seed))[0]\n",
    "        while new_coll > max_collateral:\n",
    "            seed += 1\n",
    "            new_coll = np.exp(coll_rv.rvs(size=1, random_state=seed))[0]\n",
    "                 \n",
    "        # calculate debt\n",
    "        # if debt will exceed debt ceiling, reduce\n",
    "        new_debt = min(new_coll * ETH_USD / REDEMPTION_PRICE / new_cr, extra_debt - added_debt)\n",
    "        added_debt += new_debt\n",
    "                \n",
    "        # Add new SAFE\n",
    "        tmp_safes = tmp_safes.append({'cratio': new_cr, 'collateral': new_coll, 'debt': new_debt}, ignore_index=True)\n",
    "        \n",
    "    assert added_debt == extra_debt or extra_debt < 0\n",
    "    final_sim3_safes.append(tmp_safes)   "
   ]
  },
  {
   "cell_type": "code",
   "execution_count": 28,
   "id": "38c62157-5eea-43dd-8522-c7e19d0473e0",
   "metadata": {},
   "outputs": [
    {
     "name": "stdout",
     "output_type": "stream",
     "text": [
      "2.71142123787622\n",
      "92502.22061213004\n",
      "28276331.26880185\n"
     ]
    },
    {
     "data": {
      "image/png": "[encoded data removed]",
      "text/plain": [
       "<Figure size 1200x800 with 1 Axes>"
      ]
     },
     "metadata": {
      "needs_background": "light"
     },
     "output_type": "display_data"
    }
   ],
   "source": [
    "for i, s in enumerate(final_sim3_safes):\n",
    "    updated_s = update_cratios(s, ETH_USD * 0.5, REDEMPTION_PRICE) \n",
    "    underwater = updated_s[updated_s['cratio'] < MAINNET_LIQ_RATIO]\n",
    "    print(s['cratio'].median())\n",
    "    print(s['collateral'].sum())\n",
    "    print(s['debt'].sum())\n",
    "    s['debt'].hist(bins=100)\n",
    "    #updated_s['cratio'].hist(bins=100)\n",
    "    #updated_s['collateral'].hist(bins=100)\n",
    "    \n",
    "    break\n",
    "    #print(updated_s['cratio'].describe())\n",
    "    #critical_coll, critical_debt = liquidate_critical(updated_s, liq_cratio=1.35)\n",
    "    #print(critical_coll, critical_debt)"
   ]
  },
  {
   "cell_type": "markdown",
   "id": "a722da62-8970-4d6f-a429-b51bcfb76346",
   "metadata": {},
   "source": [
    "# Sim #4: Gaussian Mixture Model for SAFE collateral amounts and c-ratios"
   ]
  },
  {
   "cell_type": "code",
   "execution_count": 29,
   "id": "76f8b9d0-c700-4e45-895e-4a5d5014aa7f",
   "metadata": {},
   "outputs": [
    {
     "name": "stderr",
     "output_type": "stream",
     "text": [
      "/Users/georgekellerman/github/geb-data-science/venv/lib/python3.9/site-packages/sklearn/base.py:450: UserWarning: X does not have valid feature names, but GaussianMixture was fitted with feature names\n",
      "  warnings.warn(\n",
      "/var/folders/z_/tzvx3mfs7rsbb8dxt0rd157w0000gn/T/ipykernel_72948/2971107313.py:35: MatplotlibDeprecationWarning: The 'extend' parameter to Colorbar has no effect because it is overridden by the mappable; it is deprecated since 3.3 and will be removed two minor releases later.\n",
      "  CB = plt.colorbar(CS, shrink=0.8, extend='both')\n"
     ]
    },
    {
     "data": {
      "image/png": "[encoded data removed]",
      "text/plain": [
       "<Figure size 1200x800 with 2 Axes>"
      ]
     },
     "metadata": {
      "needs_background": "light"
     },
     "output_type": "display_data"
    }
   ],
   "source": [
    "import numpy as np\n",
    "import matplotlib.pyplot as plt\n",
    "from matplotlib.colors import LogNorm\n",
    "from sklearn import mixture\n",
    "\n",
    "# Create a Gaussian Mixture Model with one component\n",
    "mix = mixture.GaussianMixture(n_components=1, covariance_type='full')\n",
    "\n",
    "safes = non_saviour_safes.copy()\n",
    "\n",
    "# log transform to make more normal\n",
    "safes['collateral'] = np.log(safes['collateral'])\n",
    "\n",
    "\"\"\"\n",
    "safes['collateral'].hist(bins=100, color='blue', alpha=0.5, label='original')\n",
    "plt.title('Transformed collateral')\n",
    "plt.legend()\n",
    "plt.grid(False)\n",
    "plt.show()\n",
    "\"\"\"\n",
    "\n",
    "# Fit\n",
    "mix.fit(safes[['collateral', 'cratio']])\n",
    "\n",
    "# display predicted scores by the model as a contour plot\n",
    "x = np.linspace(0, 50.)\n",
    "y = np.linspace(0, 20.)\n",
    "X, Y = np.meshgrid(x, y)\n",
    "XX = np.array([X.ravel(), Y.ravel()]).T\n",
    "Z = -mix.score_samples(XX)\n",
    "Z = Z.reshape(X.shape)\n",
    "\n",
    "CS = plt.contour(X, Y, Z, norm=LogNorm(vmin=1.0, vmax=1000.0),\n",
    "                 levels=np.logspace(0, 3, 10))\n",
    "CB = plt.colorbar(CS, shrink=0.8, extend='both')\n",
    "\n",
    "plt.scatter(safes['collateral'], safes['cratio'], .8, color='blue')\n",
    "\n",
    "#plt.title('Negative log-likelihood predicted by a GMM')\n",
    "plt.axis('tight')\n",
    "plt.xlabel('Log Collateral', fontsize=16)\n",
    "plt.ylabel('C-ratio', fontsize=16)\n",
    "plt.show()\n"
   ]
  },
  {
   "cell_type": "code",
   "execution_count": 30,
   "id": "c93f4acf-b80b-496c-a5cc-91253898aba3",
   "metadata": {},
   "outputs": [
    {
     "data": {
      "image/png": "[encoded data removed]",
      "text/plain": [
       "<Figure size 1200x800 with 1 Axes>"
      ]
     },
     "metadata": {
      "needs_background": "light"
     },
     "output_type": "display_data"
    },
    {
     "data": {
      "image/png": "[encoded data removed]",
      "text/plain": [
       "<Figure size 1200x800 with 1 Axes>"
      ]
     },
     "metadata": {
      "needs_background": "light"
     },
     "output_type": "display_data"
    }
   ],
   "source": [
    "# sample fitted distribution and create dataframe\n",
    "sample = np.random.multivariate_normal(mix.means_[0], mix.covariances_[0], len(non_saviour_safes)*2)\n",
    "df = pd.DataFrame(sample, columns=['collateral', 'cratio'])\n",
    "df = df[df['cratio'] > MAINNET_LIQ_RATIO]\n",
    "df = df.head(len(non_saviour_safes))\n",
    "df['collateral'] = np.exp(df['collateral'])\n",
    "\n",
    "# plot generated and mainnet C-ratios\n",
    "bins = np.linspace(1.35, 14, 50)\n",
    "df['cratio'].hist(bins=bins, alpha=0.5, color='red', label='generated')\n",
    "non_saviour_safes['cratio'].hist(bins=bins, color='blue', alpha=0.5, label='mainnet safes')\n",
    "\n",
    "plt.title('Sim #4 SAFE C-ratios', fontsize=18)\n",
    "plt.xlabel('C-ratio', fontsize=16)\n",
    "plt.ylabel('Number of SAFEs', fontsize=16)\n",
    "plt.legend()\n",
    "plt.grid(False)\n",
    "plt.show()\n",
    "\n",
    "# plot generated and mainnet collaterals\n",
    "bins = np.linspace(0, 1000, 50)\n",
    "df['collateral'].hist(bins=bins, alpha=0.5, color='red', label='generated')\n",
    "non_saviour_safes['collateral'].hist(bins=bins, alpha=0.5, color='blue', label='mainnet safes')\n",
    "\n",
    "plt.xlim([0, 1000])\n",
    "plt.title('Sim #4 SAFE Collateral', fontsize=18)\n",
    "plt.xlabel('Collateral', fontsize=16)\n",
    "plt.ylabel('Number of SAFEs', fontsize=16)\n",
    "plt.legend()\n",
    "plt.grid(False)\n",
    "plt.show()"
   ]
  },
  {
   "cell_type": "markdown",
   "id": "8654a666-723d-4244-9933-da796dd8f920",
   "metadata": {},
   "source": [
    "## Prepare Sim#4 SAFEs"
   ]
  },
  {
   "cell_type": "code",
   "execution_count": 31,
   "id": "81f2a1e6-db22-42f5-bf51-aa3d83bfeefd",
   "metadata": {},
   "outputs": [],
   "source": [
    "# Generate a population of SAFEs for each run\n",
    "\n",
    "# draw random collateral and c-ratio values from distribution\n",
    "\n",
    "all_gaussian_safes = [np.random.RandomState(SAFE_POP_SEEDS[i]).multivariate_normal(mix.means_[0], mix.covariances_[0], len(non_saviour_safes)*2) \n",
    "                      for i in range(N_SAFE_POPS)]\n",
    "\n",
    "# Intialize SAFEs with random values\n",
    "all_safes = [pd.DataFrame(gaussian_safe, columns=['collateral', 'cratio']) for gaussian_safe in all_gaussian_safes]\n",
    "\n",
    "\n",
    "all_tmp_safes = []\n",
    "for tmp_safes in all_safes:\n",
    "    tmp_safes['collateral'] = np.exp(tmp_safes['collateral'])\n",
    "    # Filter out unacceptable SAFEs\n",
    "    tmp_safes = tmp_safes[(tmp_safes['collateral'] > 0) & (tmp_safes['cratio'] > MAINNET_LIQ_RATIO)]    \n",
    "    tmp_safes = tmp_safes.head(len(non_saviour_safes))\n",
    "    assert len(tmp_safes) == len(non_saviour_safes)\n",
    "    \n",
    "    tmp_safes['debt'] = tmp_safes['collateral'] * ETH_USD / REDEMPTION_PRICE / tmp_safes['cratio']    \n",
    "    all_tmp_safes.append(tmp_safes)\n",
    "    \n",
    "# Draw more random collateral and c-ratio values\n",
    "all_extra_gaussian_safes = [np.random.RandomState(SAFE_POP_SEEDS[i]).multivariate_normal(mix.means_[0], mix.covariances_[0], 1000) \n",
    "                      for i in range(N_SAFE_POPS)]\n",
    "\n",
    "# add extra safes to meet debt ceiling\n",
    "final_sim4_safes = []\n",
    "for idx, tmp_safes in enumerate(all_tmp_safes):\n",
    "    extra_debt = DEBT_CEILING  - tmp_safes['debt'].sum()\n",
    "    if extra_debt <= 0:\n",
    "        final_sim4_safes.append(tmp_safes)\n",
    "        continue\n",
    "        \n",
    "    new_safes = pd.DataFrame(all_extra_gaussian_safes[idx], columns=['collateral', 'cratio'])\n",
    "    new_safes['collateral'] = np.exp(new_safes['collateral'])\n",
    "    \n",
    "     # Filter out unacceptable samples\n",
    "    new_safes = new_safes[(new_safes['collateral'] > 0) & (new_safes['cratio'] > MAINNET_LIQ_RATIO)]   \n",
    "    # Calculate debt\n",
    "    new_safes['debt'] = new_safes['collateral'] * ETH_USD / REDEMPTION_PRICE / new_safes['cratio']\n",
    "       \n",
    "    new_safes['total_debt'] = new_safes['debt'].cumsum()        \n",
    "    final_safes = new_safes[new_safes['total_debt'] <= extra_debt]\n",
    "    #assert len(final_safes) > 0\n",
    "    tmp_safes = pd.concat([tmp_safes, final_safes])\n",
    "    final_sim4_safes.append(tmp_safes)"
   ]
  },
  {
   "cell_type": "markdown",
   "id": "e1f82ae3-7466-4be4-b9b4-685d2d9d26d8",
   "metadata": {},
   "source": [
    "# Generate Uniswap V2 RAI/USD Shocks"
   ]
  },
  {
   "cell_type": "markdown",
   "id": "ab7db757-4b4a-484f-a8c1-7f661d6173da",
   "metadata": {},
   "source": [
    "This simulates the RAI/USD return of Uniswap V2 RAI/ETH pool given ETH/USD shock.\n",
    "This is to provide a more realistic V2 pool price after an ETH/USD shocks.\n",
    "The parameters were fit on prod data when V2 RAI/ETH was the only Reflexer liquidity pool.\n",
    "\n",
    "Note: Use this when V2 is the only liquidity pool being simulated"
   ]
  },
  {
   "cell_type": "code",
   "execution_count": 32,
   "id": "76acfb2d-af04-4740-b4c5-4e3b58e28dd0",
   "metadata": {},
   "outputs": [],
   "source": [
    "def prepare_rai_shocks(shocks, n):\n",
    "    \"\"\"\n",
    "    generate `n` V2 RAI/USD shocks for each ETH/USD shock in `shocks`\n",
    "    Parameters\n",
    "    ----------\n",
    "    shocks: List[float] \n",
    "        ETH/USD shocks\n",
    "    n: int\n",
    "        Number of V2 RAI/USD shocks to generate for each ETH/USD shock\n",
    "    Returns\n",
    "    -------\n",
    "    dict[float -> List[float]]\n",
    "        Multiple rai_usd shocks for each eth_usd shock\n",
    "    \"\"\"\n",
    "    \n",
    "    def cond_dist(means, covs, a):\n",
    "        # dist of x1 given x2=a\n",
    "        # https://online.stat.psu.edu/stat505/lesson/6/6.1\n",
    "        mu_1, mu_2 = means[0]\n",
    "        cov_11 = covs[0][0, 0]\n",
    "        cov_12 = covs[0][0, 1]\n",
    "        cov_21 = covs[0][1, 0]\n",
    "        cov_22 = covs[0][1, 1]\n",
    "\n",
    "        mu_cond = + cov_12*(1/cov_22)*(a-mu_2)\n",
    "        cov_cond = cov_11 - cov_12*(1/cov_22)*cov_21\n",
    "\n",
    "        return mu_cond, cov_cond\n",
    "    \n",
    "    # parameters from ETHUSD and RAIUSD notebook\n",
    "    means = np.array([[-0.00045541,  0.00047911]])\n",
    "    covs = np.array([[[ 4.13783784e-05, -3.19083822e-05],\n",
    "                      [-3.19083822e-05,  9.39901212e-05]]])\n",
    "    \n",
    "    all_rai_shocks = {}\n",
    "    for s in shocks:\n",
    "        rai_shocks = []\n",
    "        # conditional distribution of rai_eth return, given eth_usd return of s\n",
    "        mu_cond, cov_cond = cond_dist(means, covs, -s)\n",
    "\n",
    "        rai_eth_returns = multivariate_normal.rvs(mu_cond, \n",
    "                                            cov_cond*1, \n",
    "                                            size=n,\n",
    "                                            random_state=42)\n",
    "        if n == 1:\n",
    "            rai_eth_returns = [rai_eth_returns]\n",
    "\n",
    "        rai_usd_shocks = [(1 - s) * (1 + re) for re in rai_eth_returns]\n",
    "        all_rai_shocks[s] = rai_usd_shocks\n",
    " \n",
    "        \n",
    "    return all_rai_shocks"
   ]
  },
  {
   "cell_type": "code",
   "execution_count": 33,
   "id": "7b702cd0-78fc-4897-bfcc-922bab124a55",
   "metadata": {},
   "outputs": [],
   "source": [
    "orig_rai_shocks = prepare_rai_shocks(SHOCKS, N_SHOCK_RUNS)"
   ]
  },
  {
   "cell_type": "code",
   "execution_count": 34,
   "id": "5838e60f-9139-4f05-8de2-71d16a6409db",
   "metadata": {},
   "outputs": [],
   "source": [
    "# disable v2 rai/eth modeling. eth/usd drops have no effect on v2 rai/eth\n",
    "rai_shocks = {k:[1.0 for i in range(len(v))] for k, v in orig_rai_shocks.items()}\n",
    "\n",
    "# Comment out this if V2 is only liquidity pool.\n",
    "# Uncommenting this, disableds V2 RAI/ETH modeling, which will be more realistic when simulating multiple pools. \n",
    "#rai_shocks = {k:[1.0] for k in orig_rai_shocks.keys()}"
   ]
  },
  {
   "cell_type": "code",
   "execution_count": 35,
   "id": "8a48e217-3dd0-4843-a25c-08646b951c59",
   "metadata": {},
   "outputs": [],
   "source": [
    "final_sim2_safes = final_sim2_safes[:N_SAFE_POPS]\n",
    "final_sim3_safes = final_sim3_safes[:N_SAFE_POPS]\n",
    "final_sim4_safes = final_sim4_safes[:N_SAFE_POPS]"
   ]
  },
  {
   "cell_type": "markdown",
   "id": "76396c71-3109-4149-8876-1beb6fc24d41",
   "metadata": {},
   "source": [
    "## Past shocks"
   ]
  },
  {
   "cell_type": "code",
   "execution_count": 36,
   "id": "18c6cebb-65ad-477f-827b-082642b46d12",
   "metadata": {},
   "outputs": [
    {
     "data": {
      "text/plain": [
       "\"\\neth_shocks = pd.read_csv('binance_eth_shocks.csv')\\nsmallest_shock = 0.02\\npast_shocks = eth_shocks.query(f'pct_change <= -{smallest_shock}')['pct_change']\\npast_shocks = [-x for x in past_shocks]\\n\""
      ]
     },
     "execution_count": 36,
     "metadata": {},
     "output_type": "execute_result"
    }
   ],
   "source": [
    "\"\"\"\n",
    "eth_shocks = pd.read_csv('binance_eth_shocks.csv')\n",
    "smallest_shock = 0.02\n",
    "past_shocks = eth_shocks.query(f'pct_change <= -{smallest_shock}')['pct_change']\n",
    "past_shocks = [-x for x in past_shocks]\n",
    "\"\"\""
   ]
  },
  {
   "cell_type": "markdown",
   "id": "701655e7-ad39-4d67-82ec-a56f5acbe0d4",
   "metadata": {},
   "source": [
    "## Run All Sims"
   ]
  },
  {
   "cell_type": "code",
   "execution_count": 37,
   "id": "a1fbe31d-49f9-40ed-9a36-84a6d4402aa5",
   "metadata": {},
   "outputs": [],
   "source": [
    "V2_POOL_DEBTS = np.round(np.linspace(0.00, 0.70, 15), 3)\n",
    "V3_POOL_DEBTS = np.round(np.linspace(0.00, 0.30, 7), 3)\n",
    "\n",
    "#V2_POOL_DEBTS = [0.05, 0.20, 0.35, 0.50]\n",
    "#V3_POOL_DEBTS = [0.05, 0.10, 0.15]\n"
   ]
  },
  {
   "cell_type": "code",
   "execution_count": null,
   "id": "3cdb7dbb-749c-43ba-ae79-318867bf4cc9",
   "metadata": {},
   "outputs": [
    {
     "name": "stdout",
     "output_type": "stream",
     "text": [
      "v2_liq_debt=0.0, v3_liq_debt=0.0, liq_ratio=1.35, initial_surplus_pct=0.005 complete\n"
     ]
    }
   ],
   "source": [
    "start = time.time()\n",
    "VERBOSE = False\n",
    "for _ in range(1):\n",
    "    assert len(final_sim2_safes) == len(final_sim3_safes) == len(final_sim4_safes) == N_SAFE_POPS\n",
    "    \n",
    "    \n",
    "    sim2_results = run_sims_iter(final_sim2_safes, V2_POOL_DEBTS , V3_POOL_DEBTS, INITIAL_SURPLUS_PCTS,\n",
    "                                 SHOCKS, rai_shocks, MAINNET_LIQ_RATIO, title='', sim_name='sim2', verbose=VERBOSE)\n",
    "    print(\"sim2_results complete\")\n",
    "    \n",
    "    sim3_results = run_sims_iter(final_sim3_safes, V2_POOL_DEBTS , V3_POOL_DEBTS, INITIAL_SURPLUS_PCTS,\n",
    "                                 SHOCKS, rai_shocks, MAINNET_LIQ_RATIO, title='', sim_name='sim3', verbose=VERBOSE)\n",
    "    print(\"sim3_results complete\")\n",
    "    \n",
    "    sim4_results = run_sims_iter(final_sim4_safes, V2_POOL_DEBTS , V3_POOL_DEBTS, INITIAL_SURPLUS_PCTS,\n",
    "                                SHOCKS, rai_shocks, MAINNET_LIQ_RATIO, title='', sim_name='sim4', verbose=VERBOSE)    \n",
    "    print(\"sim4_results complete\")\n",
    "    \n",
    "print(f\"took {time.time() - start} secs\")"
   ]
  },
  {
   "cell_type": "markdown",
   "id": "ff262144-2197-4691-b6cc-1085e246aecb",
   "metadata": {},
   "source": [
    "# Processing and Visualization"
   ]
  },
  {
   "cell_type": "markdown",
   "id": "8b15a54a-4762-42de-b84e-c56a8680d215",
   "metadata": {},
   "source": [
    "## Max Positive Shock Heatmaps"
   ]
  },
  {
   "cell_type": "code",
   "execution_count": null,
   "id": "c3580118-6e2c-4ab0-a44f-f60f9b3162bf",
   "metadata": {},
   "outputs": [],
   "source": [
    "#for each config(v2/v3 liq debt, initial surplus, liq_ratio, etc\n",
    "# get the max shock that maintains pos. surplus with prob `q`\n",
    "def get_max_pos_shock(df, q):\n",
    "    df_q = df[['v2_liq_debt', 'v3_liq_debt', 'shock', 'surplus']].groupby(['v2_liq_debt', 'v3_liq_debt', 'shock']).quantile(1. - q).reset_index()\n",
    "    df_q = df_q[df_q['surplus'] > 0]\n",
    "    \n",
    "    df_max_shock = df_q.loc[df_q.groupby(['v2_liq_debt', 'v3_liq_debt']).shock.idxmax()]\n",
    "    return df_max_shock"
   ]
  },
  {
   "cell_type": "code",
   "execution_count": null,
   "id": "76083271-dd23-4de2-b211-c09436e94a6a",
   "metadata": {},
   "outputs": [],
   "source": [
    "q = 0.95\n",
    "sim2_max_shock = get_max_pos_shock(sim2_results, q)\n",
    "sim3_max_shock = get_max_pos_shock(sim3_results, q)\n",
    "sim4_max_shock = get_max_pos_shock(sim4_results, q)"
   ]
  },
  {
   "cell_type": "code",
   "execution_count": null,
   "id": "d66d76f7-079e-4dc5-94f8-38374fe678dd",
   "metadata": {},
   "outputs": [],
   "source": [
    "sim3_max_shock.head(5)"
   ]
  },
  {
   "cell_type": "code",
   "execution_count": null,
   "id": "c3033543-9844-4aba-8458-44b8680cf26c",
   "metadata": {},
   "outputs": [],
   "source": [
    "sim2_max_shock.query('shock == 0.0').head(50)"
   ]
  },
  {
   "cell_type": "code",
   "execution_count": null,
   "id": "ace72f4d-786d-4a79-ad68-d467822057a1",
   "metadata": {},
   "outputs": [],
   "source": [
    "def prep_heatmap(df, value_col):\n",
    "    # Put results in 2-d array format for plt.imshow()\n",
    "    v2_liq_debts = df['v2_liq_debt'].sort_values().unique()\n",
    "    v3_liq_debts = df['v3_liq_debt'].sort_values().unique()\n",
    "    #data = np.zeros((len(v2_liq_debts), len(v3_liq_debts)))\n",
    "    data = np.zeros((len(v3_liq_debts), len(v2_liq_debts)))\n",
    "    for i, row in df.iterrows():\n",
    "        v2_idx = np.where(v2_liq_debts == row['v2_liq_debt'])[0][0]\n",
    "        v3_idx = np.where(v3_liq_debts == row['v3_liq_debt'])[0][0]\n",
    "        #data[v2_idx, v3_idx] = row[value_col]\n",
    "        data[v3_idx, v2_idx] = row[value_col]\n",
    "        #print(v2_idx, v3_idx, row)\n",
    "    #return data, v2_liq_debts, v3_liq_debts\n",
    "    return data, v3_liq_debts, v2_liq_debts\n",
    "\n",
    "def plot_heatmap(data, rows, cols, cmap, norm=None, bar_title='', title=''):\n",
    "    \n",
    "    #plot heatmap\n",
    "    fig, ax = plt.subplots()\n",
    "\n",
    "    im = ax.imshow(data, cmap=cmap, norm=norm)\n",
    "    cbar = ax.figure.colorbar(im, ax=ax)\n",
    "    cbar.ax.set_ylabel(bar_title, rotation=-90, va=\"bottom\")\n",
    "\n",
    "    ax.set_xticks(np.arange(data.shape[1]))\n",
    "    ax.set_yticks(np.arange(data.shape[0]))\n",
    "    \n",
    "    ax.set_xticklabels(labels=cols, rotation='vertical')\n",
    "    ax.set_yticklabels(labels=rows)\n",
    "    #ax.set_xlabel('non-V2 liq/debt ratio')\n",
    "    #ax.set_ylabel('V2 liq/debt ratio')\n",
    "    ax.set_ylabel('non-V2 liq/debt ratio')\n",
    "    ax.set_xlabel('V2 liq/debt ratio')\n",
    "    ax.set_title(title)"
   ]
  },
  {
   "cell_type": "code",
   "execution_count": null,
   "id": "d5ffcdcc-f0c4-4ba9-931d-67328432e102",
   "metadata": {},
   "outputs": [],
   "source": [
    "sim2_heatmap, rows2, cols2 = prep_heatmap(sim2_max_shock, 'shock')"
   ]
  },
  {
   "cell_type": "code",
   "execution_count": null,
   "id": "9595ecda-fa64-4a82-aff6-32ffbb483a6d",
   "metadata": {},
   "outputs": [],
   "source": [
    "rows2, cols2"
   ]
  },
  {
   "cell_type": "code",
   "execution_count": null,
   "id": "37b56df7-6cf4-4a02-9fb8-187febfd4cbe",
   "metadata": {},
   "outputs": [],
   "source": [
    "sim3_heatmap, rows3, cols3 = prep_heatmap(sim3_max_shock, 'shock')"
   ]
  },
  {
   "cell_type": "code",
   "execution_count": null,
   "id": "c0a904d7-51bc-4bc0-9d67-7c3dab1b4fcd",
   "metadata": {},
   "outputs": [],
   "source": [
    "sim4_heatmap, rows4, cols4 = prep_heatmap(sim4_max_shock, 'shock')"
   ]
  },
  {
   "cell_type": "markdown",
   "id": "c60d86f1-7ea7-40e1-b186-736c115bfb3e",
   "metadata": {},
   "source": [
    "Sim2 Results Heatmap"
   ]
  },
  {
   "cell_type": "code",
   "execution_count": null,
   "id": "08e7317b-ccdd-4d2f-8238-76e13e677b2b",
   "metadata": {},
   "outputs": [],
   "source": [
    "print(sim2_heatmap[0, 0])"
   ]
  },
  {
   "cell_type": "code",
   "execution_count": null,
   "id": "4a60f5d6-c29f-4534-9566-a7f0c2cec396",
   "metadata": {},
   "outputs": [],
   "source": [
    "title = f\"Largest ETH/USD shock that maintains positive surplus with probability = {q}\""
   ]
  },
  {
   "cell_type": "code",
   "execution_count": null,
   "id": "3934a576-1855-4776-b970-6fcdca1f864a",
   "metadata": {},
   "outputs": [],
   "source": [
    "plot_heatmap(sim2_heatmap, rows2, cols2, cmap='hot', title=title)"
   ]
  },
  {
   "cell_type": "markdown",
   "id": "eb24ff8a-998e-4600-a0bf-6ec1b650c880",
   "metadata": {},
   "source": [
    "Sim3 Results Heatmap"
   ]
  },
  {
   "cell_type": "code",
   "execution_count": null,
   "id": "0e34905a-c452-4025-ad3b-40be72b3b0e5",
   "metadata": {},
   "outputs": [],
   "source": [
    "plot_heatmap(sim3_heatmap, rows3, cols3, cmap='hot', title=title)"
   ]
  },
  {
   "cell_type": "markdown",
   "id": "f023d5ab-fa0e-4346-a681-ae56130e484f",
   "metadata": {},
   "source": [
    "Sim4 Results Heatmap"
   ]
  },
  {
   "cell_type": "code",
   "execution_count": null,
   "id": "bc010c3a-f6ad-4e47-b825-e4f5663d2f67",
   "metadata": {},
   "outputs": [],
   "source": [
    "plot_heatmap(sim4_heatmap, rows4, cols4, cmap='hot', title=title)"
   ]
  },
  {
   "cell_type": "code",
   "execution_count": null,
   "id": "4ccf158d-3615-4a45-96ac-0730b96fb56f",
   "metadata": {},
   "outputs": [],
   "source": [
    "assert np.array_equal(rows2, rows3)\n",
    "assert np.array_equal(cols2, cols3)\n",
    "combined_heatmap23 = np.minimum(sim2_heatmap, sim3_heatmap)"
   ]
  },
  {
   "cell_type": "code",
   "execution_count": null,
   "id": "04cd0e08-b035-4079-aaa8-300abb15f353",
   "metadata": {},
   "outputs": [],
   "source": [
    "plot_heatmap(combined_heatmap23, rows3, cols3, cmap='hot', title=title)"
   ]
  },
  {
   "cell_type": "code",
   "execution_count": null,
   "id": "b706720c-df59-474d-bdd8-0a6ac246e3f5",
   "metadata": {},
   "outputs": [],
   "source": [
    "#combined_heatmap_all = np.minimum(np.minimum(sim2_heatmap, sim3_heatmap), sim4_heatmap)"
   ]
  },
  {
   "cell_type": "markdown",
   "id": "c224353b-a66b-4749-9f83-29767ef5df43",
   "metadata": {},
   "source": [
    "## Raw Surplus Heatmaps for single shock level"
   ]
  },
  {
   "cell_type": "code",
   "execution_count": null,
   "id": "d5159ccf-6511-4c2e-9699-5500d59b7ea7",
   "metadata": {},
   "outputs": [],
   "source": [
    "from matplotlib import colors  \n",
    "q=0.95"
   ]
  },
  {
   "cell_type": "code",
   "execution_count": null,
   "id": "a6091973-78fc-4d7b-a4ca-1c7b13fcc6ad",
   "metadata": {},
   "outputs": [],
   "source": [
    "df_shock_20 = sim3_results[sim3_results['shock'] == 0.20]\n",
    "df_shock_30 = sim3_results[sim3_results['shock'] == 0.30]\n",
    "df_shock_40 = sim3_results[sim3_results['shock'] == 0.40]\n",
    "\n",
    "df_shock_20_q = df_shock_20.groupby(['v2_liq_debt', 'v3_liq_debt', 'initial_surplus_pct', 'lr'])['surplus'].quantile(1-q).reset_index()\n",
    "df_shock_30_q = df_shock_30.groupby(['v2_liq_debt', 'v3_liq_debt', 'initial_surplus_pct', 'lr'])['surplus'].quantile(1-q).reset_index()\n",
    "df_shock_40_q = df_shock_40.groupby(['v2_liq_debt', 'v3_liq_debt', 'initial_surplus_pct', 'lr'])['surplus'].quantile(1-q).reset_index()"
   ]
  },
  {
   "cell_type": "code",
   "execution_count": null,
   "id": "95e4ff6b-31d0-440f-9de9-f00c4c48d0a8",
   "metadata": {},
   "outputs": [],
   "source": [
    "df_shock_20_mean.head(5)"
   ]
  },
  {
   "cell_type": "code",
   "execution_count": null,
   "id": "a4970ad3-eb81-4590-b821-b28265587d11",
   "metadata": {},
   "outputs": [],
   "source": [
    "all_surplus = pd.concat((df_shock_20_q['surplus'], df_shock_30_q['surplus'], df_shock_40_q['surplus']))\n",
    "min_surplus = min(all_surplus)\n",
    "max_surplus = max(all_surplus)\n",
    "\n",
    "print(f\"{min_surplus=}, {max_surplus=}\")\n",
    "\n",
    "divnorm = colors.TwoSlopeNorm(vmin=min_surplus, vcenter=0., vmax=max_surplus)\n",
    "\n",
    "surplus_heatmap_20, rows, cols = prep_heatmap(df_shock_20_q, 'surplus')\n",
    "plot_heatmap(surplus_heatmap_20, rows, cols, cmap='coolwarm', norm=divnorm,\n",
    "             title=\"shock=20%, 5% quantile of surplus\\nsurplus will be gt 95% of time\",\n",
    "             bar_title='surplus')\n",
    "surplus_heatmap_30, rows, cols = prep_heatmap(df_shock_30_q, 'surplus')\n",
    "plot_heatmap(surplus_heatmap_30, rows, cols, cmap='coolwarm', norm=divnorm,\n",
    "             title=\"shock=30%, 5% quantile of surplus\\nsurplus will be gt 95% of time\",\n",
    "             bar_title='surplus')\n",
    "surplus_heatmap_40, rows, cols = prep_heatmap(df_shock_40_q, 'surplus')\n",
    "plot_heatmap(surplus_heatmap_40, rows, cols, cmap='coolwarm', norm=divnorm,\n",
    "             title=\"shock=40%, 5% quantile of surplus\\nsurplus will be gt 95% of time\",\n",
    "             bar_title='surplus')"
   ]
  },
  {
   "cell_type": "markdown",
   "id": "e248595d-70c8-413c-8cb0-ec39ea6c4be7",
   "metadata": {},
   "source": [
    "## Plot all SAFE Population Surpluses through all shocks for a single config"
   ]
  },
  {
   "cell_type": "code",
   "execution_count": null,
   "id": "b7c69e6a-1e74-4b02-9df4-a0bb0c9fdc90",
   "metadata": {},
   "outputs": [],
   "source": [
    "# for a single system config(v2/vq liq., initial surplus, etc)\n",
    "# plot all safe populations behavior over shocks\n",
    "def plot(sim_results, v2_liq_debt, v3_liq_debt, initial_surplus_pct, q):\n",
    "    df = sim_results[(sim_results['v2_liq_debt'] == v2_liq_debt) & (sim_results['v3_liq_debt'] == v3_liq_debt) &\\\n",
    "                     (sim_results['initial_surplus_pct'] == initial_surplus_pct)]\n",
    "    plt.plot(df['shock'], df['surplus'], alpha=0.1)\n",
    "    df_q = df[['shock', 'surplus']].groupby('shock').quantile(1. - q).reset_index()\n",
    "    df_100 = df[['shock', 'surplus']].groupby('shock').quantile(1.0).reset_index()\n",
    "    plt.plot(df_q['shock'], df_q['surplus'], ':')\n",
    "    plt.plot(df_100['shock'], df_100['surplus'], ':')\n",
    "    plt.fill_between(SHOCKS, \n",
    "                df_100['surplus'], \n",
    "                df_q['surplus'], alpha=0.4,label=f\"{q*100}% confidence\")\n",
    "\n",
    "    df_mean = df[['shock', 'surplus']].groupby('shock').mean().reset_index()\n",
    "    plt.plot(df_mean['shock'], df_mean['surplus'])\n",
    "    plt.title(f'{v2_liq_debt=}, {v3_liq_debt=}, {initial_surplus_pct=}', fontsize=14)\n",
    "    plt.xlabel('ETH/USD Shock (0.5 = 50% drop)', fontsize=16)\n",
    "    plt.ylabel('Surplus', fontsize=16)\n",
    "    plt.grid(True)\n",
    "    plt.legend(loc='lower left')\n",
    "    plt.ylim([-1E7,2E6])\n",
    "    plt.show()"
   ]
  },
  {
   "cell_type": "code",
   "execution_count": null,
   "id": "a244c7f2-27a6-4f25-a651-e9096fa9e6ee",
   "metadata": {},
   "outputs": [],
   "source": [
    "plot(sim3_results, 0.05, 0.05, 0.005, q=0.95)"
   ]
  }
 ],
 "metadata": {
  "kernelspec": {
   "display_name": "geb-data-science",
   "language": "python",
   "name": "geb-data-science"
  },
  "language_info": {
   "codemirror_mode": {
    "name": "ipython",
    "version": 3
   },
   "file_extension": ".py",
   "mimetype": "text/x-python",
   "name": "python",
   "nbconvert_exporter": "python",
   "pygments_lexer": "ipython3",
   "version": "3.9.6"
  }
 },
 "nbformat": 4,
 "nbformat_minor": 5
}
