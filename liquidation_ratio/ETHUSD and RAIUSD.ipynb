{
 "cells": [
  {
   "cell_type": "markdown",
   "id": "7ef1ebea-d8b4-4999-bf8c-12a3a34ee8fe",
   "metadata": {},
   "source": [
    "# ETH/USD vs RAI/ETH Modeling\n",
    "## Purpose\n",
    "Determine the behavior of RAI/ETH"
   ]
  },
  {
   "cell_type": "code",
   "execution_count": 5,
   "id": "975d1962-20df-4fc3-acfa-1f1b5ae1eb8e",
   "metadata": {},
   "outputs": [
    {
     "ename": "ModuleNotFoundError",
     "evalue": "No module named 'scipy'",
     "output_type": "error",
     "traceback": [
      "\u001b[0;31m---------------------------------------------------------------------------\u001b[0m",
      "\u001b[0;31mModuleNotFoundError\u001b[0m                       Traceback (most recent call last)",
      "\u001b[0;32m/var/folders/z_/tzvx3mfs7rsbb8dxt0rd157w0000gn/T/ipykernel_71713/761509822.py\u001b[0m in \u001b[0;36m<module>\u001b[0;34m\u001b[0m\n\u001b[1;32m      9\u001b[0m \u001b[0;32mfrom\u001b[0m \u001b[0mdecimal\u001b[0m \u001b[0;32mimport\u001b[0m \u001b[0mDecimal\u001b[0m\u001b[0;34m\u001b[0m\u001b[0;34m\u001b[0m\u001b[0m\n\u001b[1;32m     10\u001b[0m \u001b[0;32mimport\u001b[0m \u001b[0mmatplotlib\u001b[0m\u001b[0;34m.\u001b[0m\u001b[0mpyplot\u001b[0m \u001b[0;32mas\u001b[0m \u001b[0mplt\u001b[0m\u001b[0;34m\u001b[0m\u001b[0;34m\u001b[0m\u001b[0m\n\u001b[0;32m---> 11\u001b[0;31m \u001b[0;32mimport\u001b[0m \u001b[0mscipy\u001b[0m\u001b[0;34m.\u001b[0m\u001b[0mstats\u001b[0m \u001b[0;32mas\u001b[0m \u001b[0mss\u001b[0m\u001b[0;34m\u001b[0m\u001b[0;34m\u001b[0m\u001b[0m\n\u001b[0m\u001b[1;32m     12\u001b[0m \u001b[0;32mfrom\u001b[0m \u001b[0msklearn\u001b[0m\u001b[0;34m.\u001b[0m\u001b[0mpreprocessing\u001b[0m \u001b[0;32mimport\u001b[0m \u001b[0mPowerTransformer\u001b[0m\u001b[0;34m\u001b[0m\u001b[0;34m\u001b[0m\u001b[0m\n\u001b[1;32m     13\u001b[0m \u001b[0;32mfrom\u001b[0m \u001b[0msklearn\u001b[0m \u001b[0;32mimport\u001b[0m \u001b[0mmixture\u001b[0m\u001b[0;34m\u001b[0m\u001b[0;34m\u001b[0m\u001b[0m\n",
      "\u001b[0;31mModuleNotFoundError\u001b[0m: No module named 'scipy'"
     ]
    }
   ],
   "source": [
    "import time\n",
    "import math\n",
    "import pandas as pd\n",
    "import numpy as np\n",
    "import requests\n",
    "import json\n",
    "#import multiprocess\n",
    "#from multiprocess import Pool\n",
    "from decimal import Decimal\n",
    "import matplotlib.pyplot as plt\n",
    "import scipy.stats as ss\n",
    "from sklearn.preprocessing import PowerTransformer\n",
    "from sklearn import mixture\n",
    "\n",
    "from scipy.stats import multivariate_normal\n",
    "from web3 import Web3, HTTPProvider\n",
    "\n",
    "import seaborn as sns\n",
    "from fitter import Fitter, get_common_distributions, get_distributions\n",
    "\n",
    "from uniswap import get_input_price, get_output_price, buy_to_price\n",
    "from graph_util import fetch_safes, fetch_rp, fetch_debt_ceiling, fetch_saviour_safes\n",
    "from web3_util import fetch_saviour_targets\n",
    "from util import chunks"
   ]
  },
  {
   "cell_type": "code",
   "execution_count": null,
   "id": "5020dbb6-2c08-405b-bf0f-1869b8136606",
   "metadata": {},
   "outputs": [],
   "source": [
    "plt.rcParams['figure.figsize'] = [12, 8]\n",
    "plt.rcParams['figure.dpi'] = 100 "
   ]
  },
  {
   "cell_type": "markdown",
   "id": "a4b11e51-824b-412e-b064-fb853ca4b89c",
   "metadata": {},
   "source": [
    "#### Create two ETH/USD, RAI/ETH datasets\n",
    "\n",
    "1) Uniswap V2 RAI/ETH only: 3/01/21 - 5/01/21\n",
    "1) Uniswap V2 RAI/ETH + V3 pools: 5/01/21 - 10/01/21"
   ]
  },
  {
   "cell_type": "code",
   "execution_count": null,
   "id": "dedf8d2c-0fce-4c9b-9140-013d80759cd5",
   "metadata": {},
   "outputs": [],
   "source": [
    "# Data from  3/1/21-5/1/21\n",
    "# RAI/ETH V2 was the only liquidity pool\n",
    "df_eth = pd.read_csv('eth_usd_cg.csv')\n",
    "df_rai = pd.read_csv('rai_eth_influx.csv')\n",
    "\n",
    "# Data from  5/1/21-10/1/21\n",
    "# RAI/ETH V2 and V3 pools\n",
    "df_eth2 = pd.read_csv('../twap/eth_usd.csv')\n",
    "df_rai2 = pd.read_csv('../twap/rai_eth.csv')\n"
   ]
  },
  {
   "cell_type": "markdown",
   "id": "b6f90396-b0c3-43ae-82cd-18088b75a11c",
   "metadata": {},
   "source": [
    "Prep data: rename and drop columns"
   ]
  },
  {
   "cell_type": "code",
   "execution_count": null,
   "id": "af7decd8-dbb8-4aca-b1b0-1355a1f8bcd0",
   "metadata": {},
   "outputs": [],
   "source": [
    "df_rai = df_rai.rename(columns={\"value\": \"rai_eth\"})\n",
    "df_eth = df_eth.rename(columns={\"value\": \"eth_usd\"})\n",
    "df_rai2 = df_rai2.rename(columns={\"value\": \"rai_eth\"})\n",
    "df_eth2 = df_eth2.rename(columns={\"value\": \"eth_usd\"})\n",
    "df_eth2 = df_eth2.drop('field', axis=1)\n",
    "df_rai2 = df_rai2.drop('field', axis=1)"
   ]
  },
  {
   "cell_type": "code",
   "execution_count": null,
   "id": "bb4688d8-cf0c-4d19-ac75-5624abad434e",
   "metadata": {},
   "outputs": [],
   "source": [
    "df_eth.head(3)"
   ]
  },
  {
   "cell_type": "code",
   "execution_count": null,
   "id": "fb0949fe-b5f1-4b21-a5fc-36cd3ef7d9ca",
   "metadata": {},
   "outputs": [],
   "source": [
    "df_eth2.head(3)"
   ]
  },
  {
   "cell_type": "code",
   "execution_count": null,
   "id": "9f4b50fa-690d-40a4-ab16-c38d0910b483",
   "metadata": {},
   "outputs": [],
   "source": [
    "df_rai.head(3)"
   ]
  },
  {
   "cell_type": "code",
   "execution_count": null,
   "id": "bac7e596-2328-41dc-880e-9aeecc32a880",
   "metadata": {},
   "outputs": [],
   "source": [
    "df_rai2.head(3)"
   ]
  },
  {
   "cell_type": "markdown",
   "id": "2c369130-3721-484a-9aa9-c370bf3016bd",
   "metadata": {},
   "source": [
    "Prep data: parse time and round to nearest minute"
   ]
  },
  {
   "cell_type": "code",
   "execution_count": null,
   "id": "433a0864-f97d-4785-a2f5-d1af95d7ffa1",
   "metadata": {},
   "outputs": [],
   "source": [
    "df_rai['time'] = pd.to_datetime(df_rai['time'], infer_datetime_format=True)\n",
    "df_eth['time'] = pd.to_datetime(df_eth['time'], infer_datetime_format=True)\n",
    "\n",
    "df_rai2['time'] = pd.to_datetime(df_rai2['time'], infer_datetime_format=True)\n",
    "df_eth2['time'] = pd.to_datetime(df_eth2['time'], infer_datetime_format=True)"
   ]
  },
  {
   "cell_type": "code",
   "execution_count": null,
   "id": "066a7833-dec6-4fa4-a1ff-4f9500347e49",
   "metadata": {},
   "outputs": [],
   "source": [
    "df_rai['time_1m'] = df_rai['time'].dt.round('1min') \n",
    "df_eth['time_1m'] = df_eth['time'].dt.round('1min') \n",
    "df_rai = df_rai.drop_duplicates(['time_1m']) \n",
    "df_eth = df_eth.drop_duplicates(['time_1m']) \n",
    "\n",
    "df_rai2['time_1m'] = df_rai2['time'].dt.round('1min') \n",
    "df_eth2['time_1m'] = df_eth2['time'].dt.round('1min') \n",
    "df_rai2 = df_rai2.drop_duplicates(['time_1m']) \n",
    "df_eth2 = df_eth2.drop_duplicates(['time_1m']) "
   ]
  },
  {
   "cell_type": "markdown",
   "id": "344f9843-fef3-4e9a-ba03-6727405b0fdc",
   "metadata": {},
   "source": [
    "Prep Data: Set time index and forward fill to every minute"
   ]
  },
  {
   "cell_type": "code",
   "execution_count": null,
   "id": "ad129032-2c9c-4b8b-9472-a19c78d0d46c",
   "metadata": {},
   "outputs": [],
   "source": [
    "df_rai = df_rai.set_index('time_1m')\n",
    "df_rai = df_rai.asfreq('1min', method='ffill')\n",
    "df_eth = df_eth.set_index('time_1m')\n",
    "df_eth = df_eth.asfreq('1min', method='ffill')\n",
    "\n",
    "\n",
    "df_rai2 = df_rai2.set_index('time_1m')\n",
    "df_rai2 = df_rai2.asfreq('1min', method='ffill')\n",
    "df_eth2 = df_eth2.set_index('time_1m')\n",
    "df_eth2 = df_eth2.asfreq('1min', method='ffill')"
   ]
  },
  {
   "cell_type": "markdown",
   "id": "9463e2df-017e-4ad4-8342-f947202d8bf8",
   "metadata": {},
   "source": [
    "Merge eth/usd and rai/eth data"
   ]
  },
  {
   "cell_type": "code",
   "execution_count": null,
   "id": "538e4ca6-a880-4256-9732-2c1d33670123",
   "metadata": {},
   "outputs": [],
   "source": [
    "df = pd.merge(df_rai['rai_eth'], df_eth['eth_usd'], left_index=True, right_index=True)\n",
    "df2 = pd.merge(df_rai2['rai_eth'], df_eth2['eth_usd'], left_index=True, right_index=True)"
   ]
  },
  {
   "cell_type": "markdown",
   "id": "b5b99907-3cc7-4110-b6db-4c252583f4eb",
   "metadata": {},
   "source": [
    "Create hourly pct-change dataset"
   ]
  },
  {
   "cell_type": "code",
   "execution_count": null,
   "id": "d992d2ec-a77e-40e0-a8b0-3092c599a755",
   "metadata": {},
   "outputs": [],
   "source": [
    "df_1H = df.resample('1H').first()[['rai_eth', 'eth_usd']]\n",
    "df_1H_return = (df_1H.pct_change()+1).dropna()\n",
    "\n",
    "df_1H2 = df2.resample('1H').first()[['rai_eth', 'eth_usd']]\n",
    "df_1H_return2 = (df_1H2.pct_change()+1).dropna()"
   ]
  },
  {
   "cell_type": "markdown",
   "id": "4c4b73e9-85cd-44c4-9c43-b335dc292288",
   "metadata": {},
   "source": [
    "Plot ETH/USD and RAI/ETH prices for both datasets"
   ]
  },
  {
   "cell_type": "code",
   "execution_count": null,
   "id": "798bec48-86e1-49e3-8990-9933da860a92",
   "metadata": {},
   "outputs": [],
   "source": [
    "f, ax = plt.subplots(2, 2)\n",
    "\n",
    "# ETH/USD prices\n",
    "df_1H['eth_usd'].plot(ax=ax[0][0], color='blue', label='ETH/USD')\n",
    "ax[0][0].set_title('V2 liquidity only dataset')\n",
    "ax[0][0].legend(loc='upper left')\n",
    "df_1H2['eth_usd'].plot(ax=ax[0][1], color='red', label='ETH/USD')\n",
    "ax[0][1].set_title('V2 + V3 liquidity dataset')\n",
    "ax[0][1].legend(loc='upper left')\n",
    "\n",
    "# RAI/ETH prices\n",
    "df_1H['rai_eth'].plot(ax=ax[1][0], color='blue', label='RAI/ETH')\n",
    "ax[1][0].set_title('V2 liquidity only dataset')\n",
    "ax[1][0].legend()\n",
    "\n",
    "# RAI/ETH prices\n",
    "df_1H2['rai_eth'].plot(ax=ax[1][1], color='red', label='RAI/ETH')\n",
    "ax[1][1].set_title('V2 + V3 liquidity dataset')\n",
    "ax[1][1].legend()\n",
    "\n",
    "#plt.tight_layout()\n",
    "plt.legend()\n",
    "plt.show()"
   ]
  },
  {
   "cell_type": "markdown",
   "id": "0e3c172a-9fca-47e0-aa06-d46eb46b389d",
   "metadata": {},
   "source": [
    "Scatter plots of eth/usd returns vs rai/eth returns"
   ]
  },
  {
   "cell_type": "code",
   "execution_count": null,
   "id": "7c90db06-70d0-487d-af26-81eb67b21084",
   "metadata": {},
   "outputs": [],
   "source": [
    "f, ax = plt.subplots(1, 2)\n",
    "df_1H_return.plot.scatter('eth_usd', 'rai_eth', 0.8, color='blue', ax=ax[0])\n",
    "ax[0].set_title('V2 liquidity only dataset')\n",
    "#ax[0].legend(loc='upper right')\n",
    "df_1H_return2.plot.scatter('eth_usd', 'rai_eth', 0.8, color='red', ax=ax[1])\n",
    "ax[1].set_title('V2 + V3 liquidity dataset')\n",
    "#ax[1].legend(loc='upper right')\n"
   ]
  },
  {
   "cell_type": "code",
   "execution_count": null,
   "id": "b8bd982f-a681-46d3-8958-c3bacc1694b7",
   "metadata": {},
   "outputs": [],
   "source": [
    "from sklearn import linear_model\n",
    "\n",
    "reg = linear_model.LinearRegression().fit(df_1H_return['eth_usd'].values.reshape(-1,1),\\\n",
    "                                   df_1H_return['rai_eth'].values.reshape(-1,1))\n",
    "\n",
    "reg.intercept_, reg.coef_\n",
    "\n",
    "\n",
    "reg2 = linear_model.LinearRegression().fit(df_1H_return2['eth_usd'].values.reshape(-1,1),\\\n",
    "                                    df_1H_return2['rai_eth'].values.reshape(-1,1))\n",
    "\n",
    "f, ax = plt.subplots(1, 2)\n",
    "\n",
    "df_1H_return.plot.scatter('eth_usd', 'rai_eth', 0.8, color='blue', ax=ax[0])\n",
    "df_1H_return2.plot.scatter('eth_usd', 'rai_eth', 0.8, color='red', ax=ax[1])\n",
    "\n",
    "x = np.linspace(min(df_1H_return['eth_usd']), max(df_1H_return['eth_usd']), 100)\n",
    "y = (x * reg.coef_ + reg.intercept_).reshape(-1,1)\n",
    "ax[0].plot(x.reshape(-1,1), y, ':', 0.8, color='blue')\n",
    "ax[0].set_title(f\"V2 liquidity only dataset\\ncoef={reg.coef_[0][0]:.2f}\", fontsize=10)\n",
    "ax[0].set_xlim([0.92, 1.08])\n",
    "ax[0].set_ylim([0.92, 1.08])\n",
    "\n",
    "x2 = np.linspace(min(df_1H_return2['eth_usd']), max(df_1H_return2['eth_usd']), 100)\n",
    "y2 = (x2*reg2.coef_ + reg2.intercept_).reshape(-1,1)\n",
    "ax[1].plot(x2.reshape(-1,1), y2, ':', color='red')\n",
    "ax[1].set_title(f\"V2 + V3 liquidity dataset\\ncoef={reg2.coef_[0][0]:.2f}\", fontsize=10)\n",
    "ax[1].set_xlim([0.92, 1.08])\n",
    "ax[1].set_ylim([0.92, 1.08])\n",
    "print(min(y))"
   ]
  },
  {
   "cell_type": "code",
   "execution_count": null,
   "id": "051cd5a4-f02f-4a94-b470-5c0b29bd7292",
   "metadata": {},
   "outputs": [],
   "source": [
    "min(df_1H_return['rai_eth'])"
   ]
  },
  {
   "cell_type": "code",
   "execution_count": null,
   "id": "c3552d17-ecf9-4bf5-8c77-c0f204acf6b7",
   "metadata": {},
   "outputs": [],
   "source": [
    "# Create a Gaussian Mixture Model with one component from Uni V2-only time period\n",
    "gmm = mixture.GaussianMixture(n_components=1, covariance_type='full')\n",
    "gmm.fit(df_1H_return[['rai_eth', 'eth_usd']])\n",
    "\n",
    "# Create a Gaussian Mixture Model with one component from Uni V2 + V3 time period\n",
    "gmm2 = mixture.GaussianMixture(n_components=1, covariance_type='full')\n",
    "gmm2.fit(df_1H_return2[['rai_eth', 'eth_usd']])"
   ]
  },
  {
   "cell_type": "code",
   "execution_count": null,
   "id": "7fb9f7dc-2436-4df4-a948-b144dbae9e01",
   "metadata": {},
   "outputs": [],
   "source": [
    "covs = gmm.covariances_\n",
    "means = gmm.means_\n",
    "\n",
    "# can use these later to generate samples in simulation\n",
    "print(means)\n",
    "print(covs)"
   ]
  },
  {
   "cell_type": "code",
   "execution_count": null,
   "id": "3a5654f9-e88a-457e-92be-156974778f83",
   "metadata": {},
   "outputs": [],
   "source": [
    "from matplotlib.colors import LogNorm\n",
    "\n",
    "# display predicted scores by the model as a contour plot\n",
    "x = np.linspace(0.92, 1.08, 100)\n",
    "y = np.linspace(0.92, 1.08, 100)\n",
    "X, Y = np.meshgrid(x, y)\n",
    "XX = np.array([X.ravel(), Y.ravel()]).T\n",
    "Z = -gmm.score_samples(XX)\n",
    "Z = Z.reshape(X.shape)\n",
    "\n",
    "CS = plt.contour(X, Y, Z, \n",
    "                 norm=LogNorm(vmin=1.0, vmax=100.0),\n",
    "                 levels=np.logspace(1, 2, 10))\n",
    "\n",
    "CB = plt.colorbar(CS, shrink=0.8, extend='both')\n",
    "\n",
    "plt.scatter(df_1H_return['eth_usd'].values.reshape(-1,1), df_1H_return['rai_eth'].values.reshape(-1,1), .8, color='blue')\n",
    "\n",
    "#plt.title('Negative log-likelihood predicted by a GMM')\n",
    "plt.axis('tight')\n",
    "#plt.xlabel('Title', fontsize=16)\n",
    "#plt.ylabel('C-ratio', fontsize=16)\n",
    "plt.show()"
   ]
  },
  {
   "cell_type": "code",
   "execution_count": null,
   "id": "42772012-73c4-41fa-9351-b6c71f30fafc",
   "metadata": {},
   "outputs": [],
   "source": [
    "def cond_dist(means, covs, a):\n",
    "    # distribution of x1 given x2=a\n",
    "    # distribution of rai_eth return given an eth_usd return\n",
    "    # Reference: https://online.stat.psu.edu/stat505/lesson/6/6.1\n",
    "    mu_1, mu_2 = means[0]\n",
    "    cov_11 = covs[0][0, 0]\n",
    "    cov_12 = covs[0][0, 1]\n",
    "    cov_21 = covs[0][1, 0]\n",
    "    cov_22 = covs[0][1, 1]\n",
    "    \n",
    "    mu_cond = mu_1 + cov_12 * (1/cov_22) * (a - mu_2)\n",
    "    cov_cond = cov_11 - cov_12 * (1/cov_22) * cov_21\n",
    "    \n",
    "    return mu_cond, cov_cond"
   ]
  },
  {
   "cell_type": "code",
   "execution_count": null,
   "id": "9e9921a0-9d34-4e1b-a7ed-41d9b7b3ea95",
   "metadata": {},
   "outputs": [],
   "source": [
    "#df_1H_return.plot.scatter('rai_eth', 'eth_usd', color='orange')\n",
    "plt.scatter(df_1H_return['eth_usd'].values.reshape(-1,1), \n",
    "            df_1H_return['rai_eth'].values.reshape(-1,1), .8, color='blue')\n",
    "\n",
    "for eth_return in np.linspace(0.92, 1.08, 10):\n",
    "    mu_cond, cov_cond = cond_dist(means, covs, eth_return)\n",
    "    samples = multivariate_normal.rvs(mu_cond, cov_cond*1, size=20, random_state=42)\n",
    "    #print(f\"{samples=}\")\n",
    "    \n",
    "    plt.scatter([eth_return] * len(samples), samples, color='red')\n",
    "    #plt.xlim([-0.08, 0.08])\n",
    "    #plt.ylim([0.92, 1.08])"
   ]
  }
 ],
 "metadata": {
  "kernelspec": {
   "display_name": "geb-data-science",
   "language": "python",
   "name": "geb-data-science"
  },
  "language_info": {
   "codemirror_mode": {
    "name": "ipython",
    "version": 3
   },
   "file_extension": ".py",
   "mimetype": "text/x-python",
   "name": "python",
   "nbconvert_exporter": "python",
   "pygments_lexer": "ipython3",
   "version": "3.9.6"
  }
 },
 "nbformat": 4,
 "nbformat_minor": 5
}
